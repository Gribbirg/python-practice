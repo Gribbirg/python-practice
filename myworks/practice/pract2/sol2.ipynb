{
 "cells": [
  {
   "cell_type": "markdown",
   "id": "b80c26c3fc2f41fe",
   "metadata": {
    "collapsed": false
   },
   "source": [
    "# Практическое занятие №2\n",
    "\n",
    "Выполнил: *Грибков А.С.*\n",
    "\n",
    "Группа: *ИКБО-16-22*"
   ]
  },
  {
   "cell_type": "markdown",
   "id": "8b2e9cccf45c370c",
   "metadata": {
    "collapsed": false
   },
   "source": [
    "## 2. Особенности языка"
   ]
  },
  {
   "cell_type": "markdown",
   "id": "609d1809506e5d77",
   "metadata": {
    "collapsed": false
   },
   "source": [
    "**2.1.** (уровень сложности: низкий)\n",
    "\n",
    "Объясните, что это за код. Это Питон?\n",
    "\n",
    "```[0xfor _ in 'abc']```"
   ]
  },
  {
   "cell_type": "markdown",
   "id": "5e8a593025aa7ee7",
   "metadata": {
    "collapsed": false
   },
   "source": [
    "**Решение:**"
   ]
  },
  {
   "cell_type": "markdown",
   "id": "dd0b4b367599a69e",
   "metadata": {
    "collapsed": false
   },
   "source": [
    "Число записано в 16 c/c: ```0xf = 15```.\n",
    "Далее следует логическое ИЛИ: ```or```.\n",
    "Затем следует проверка наличия подстроки в строке, однако она не будет выполняться, т.к. ```15 = True``` и итоговое значение ИЛИ от второго значения не зависит.\n",
    "Таким образом, в результате работы кода получается массив с единственным элементом:"
   ]
  },
  {
   "cell_type": "code",
   "execution_count": 8,
   "id": "9ff49ba372043818",
   "metadata": {
    "ExecuteTime": {
     "end_time": "2024-02-25T14:35:44.084534600Z",
     "start_time": "2024-02-25T14:35:44.042365700Z"
    },
    "collapsed": false
   },
   "outputs": [
    {
     "data": {
      "text/plain": [
       "[15]"
      ]
     },
     "execution_count": 8,
     "metadata": {},
     "output_type": "execute_result"
    }
   ],
   "source": [
    "[0xf or _ in 'abc']"
   ]
  },
  {
   "cell_type": "markdown",
   "id": "e90964ad7d48a687",
   "metadata": {
    "collapsed": false
   },
   "source": [
    "**2.2.** (уровень сложности: низкий)\n",
    "\n",
    "Странные результаты приведены ниже. Как такое возможно?"
   ]
  },
  {
   "cell_type": "code",
   "execution_count": 9,
   "id": "59b0e715a0c91116",
   "metadata": {
    "ExecuteTime": {
     "end_time": "2024-02-25T14:42:13.586131800Z",
     "start_time": "2024-02-25T14:42:13.536998700Z"
    },
    "collapsed": false
   },
   "outputs": [
    {
     "name": "stdout",
     "output_type": "stream",
     "text": [
      "True False\n"
     ]
    }
   ],
   "source": [
    "a = 1\n",
    "b = 1\n",
    "c = 300000 # проверено в Python 3.11\n",
    "d = 300000\n",
    "print(a is b, c is d)"
   ]
  },
  {
   "cell_type": "code",
   "execution_count": 10,
   "id": "4d1dfdf6b1c6fcd3",
   "metadata": {
    "ExecuteTime": {
     "end_time": "2024-02-25T14:42:15.701250300Z",
     "start_time": "2024-02-25T14:42:15.667632Z"
    },
    "collapsed": false
   },
   "outputs": [
    {
     "name": "stdout",
     "output_type": "stream",
     "text": [
      "True True False\n"
     ]
    }
   ],
   "source": [
    "a, b = 'py', 'py'\n",
    "c = ''.join(['p', 'y'])\n",
    "print(a is b, a == c, a is c)"
   ]
  },
  {
   "cell_type": "markdown",
   "id": "634982d2e6c36be0",
   "metadata": {
    "collapsed": false
   },
   "source": [
    "**Решение:**"
   ]
  },
  {
   "cell_type": "markdown",
   "id": "e659d8b5ac24abdb",
   "metadata": {
    "collapsed": false
   },
   "source": [
    "Оператор ```is``` сравнивает элементы по их адресу памяти.\n",
    "\n",
    "Для оптимизации Python автоматически создаёт экземпляры чисел от -5 до 256. Таким образом, первые две переменные ссылаются на одну ячейку памяти, а остальные создают новые разные ячейки.\n",
    "\n",
    "Во втором случае, аналогично, ```join``` создаёт новую ячейку памяти, а переменная ```b``` ссылается на ту же, что и раннее созданная переменная ```a```, т.к. их значения идентичны."
   ]
  },
  {
   "cell_type": "markdown",
   "id": "b951953044f0eb46",
   "metadata": {
    "collapsed": false
   },
   "source": [
    "**2.3.** (уровень сложности: средний)\n",
    "\n",
    "В следующем фрагменте по индексу i выбирается одна из трех строк. Сократите код во второй строке до 19 символов без использования функций и методов."
   ]
  },
  {
   "cell_type": "code",
   "execution_count": null,
   "id": "c603614cd4d515f",
   "metadata": {
    "collapsed": false
   },
   "outputs": [],
   "source": [
    "i = 0\n",
    "['much','code','wow'][i] # 24 символа"
   ]
  },
  {
   "cell_type": "markdown",
   "id": "ed7bba89461d3619",
   "metadata": {
    "collapsed": false
   },
   "source": [
    "**Решение:**"
   ]
  },
  {
   "cell_type": "code",
   "execution_count": 13,
   "id": "5c8e95ec7aa3e56d",
   "metadata": {
    "ExecuteTime": {
     "end_time": "2024-02-25T15:09:13.108704500Z",
     "start_time": "2024-02-25T15:09:13.070993300Z"
    },
    "collapsed": false
   },
   "outputs": [
    {
     "data": {
      "text/plain": [
       "(['much', 'code', 'wow'], 19)"
      ]
     },
     "execution_count": 13,
     "metadata": {},
     "output_type": "execute_result"
    }
   ],
   "source": [
    "def f(i):\n",
    "    return 'mcwuoocdwhe'[i::3]\n",
    "\n",
    "[f(i) for i in range(3)], len(\"'mcwuoocdwhe'[i::3]\")"
   ]
  },
  {
   "cell_type": "markdown",
   "id": "fc9f139919ffdaad",
   "metadata": {
    "collapsed": false
   },
   "source": [
    "**2.4.** (уровень сложности: средний)\n",
    "\n",
    "Объясните поведение приведенного ниже кода.\n",
    "\n",
    "```Python\n",
    "lst = ['a', 'b', 'c']\n",
    "lst += 'd'\n",
    "print(lst)\n",
    "\n",
    "lst = lst + 'd' # Ошибка?!\n",
    "print(lst)\n",
    "\n",
    "lst += 42\n",
    "print(lst) # Ошибка?!\n",
    "```"
   ]
  },
  {
   "cell_type": "markdown",
   "id": "2943767ae3ac3061",
   "metadata": {
    "collapsed": false
   },
   "source": [
    "**Решение:**"
   ]
  },
  {
   "cell_type": "markdown",
   "id": "24e435ff45668c6d",
   "metadata": {
    "collapsed": false
   },
   "source": [
    "В первом случае строка преобразуется в массив символов и добавляется к существующему. \n",
    "Во втором такое преобразование не происходит автоматически, и т.к. сложить массив и строку невозможно, вылазит ошибка.\n",
    "В третьем случае число не преобразуется в массив, т.к. такой встроенной функции нет, поэтому выходит ошибка."
   ]
  },
  {
   "cell_type": "code",
   "execution_count": 26,
   "id": "b06cee69c494a8e8",
   "metadata": {
    "ExecuteTime": {
     "end_time": "2024-02-25T15:18:14.710298600Z",
     "start_time": "2024-02-25T15:18:14.681273700Z"
    },
    "collapsed": false
   },
   "outputs": [
    {
     "data": {
      "text/plain": [
       "['a', 'b', 'c', 'd', 'e']"
      ]
     },
     "execution_count": 26,
     "metadata": {},
     "output_type": "execute_result"
    }
   ],
   "source": [
    "lst = ['a', 'b', 'c']\n",
    "lst += 'de'\n",
    "lst"
   ]
  },
  {
   "cell_type": "code",
   "execution_count": 22,
   "id": "4010dfc74ba05c4d",
   "metadata": {
    "ExecuteTime": {
     "end_time": "2024-02-25T15:17:37.208453800Z",
     "start_time": "2024-02-25T15:17:37.176821400Z"
    },
    "collapsed": false
   },
   "outputs": [
    {
     "ename": "TypeError",
     "evalue": "can only concatenate list (not \"str\") to list",
     "output_type": "error",
     "traceback": [
      "\u001B[1;31m---------------------------------------------------------------------------\u001B[0m",
      "\u001B[1;31mTypeError\u001B[0m                                 Traceback (most recent call last)",
      "Cell \u001B[1;32mIn[22], line 1\u001B[0m\n\u001B[1;32m----> 1\u001B[0m lst \u001B[38;5;241m=\u001B[39m \u001B[43mlst\u001B[49m\u001B[43m \u001B[49m\u001B[38;5;241;43m+\u001B[39;49m\u001B[43m \u001B[49m\u001B[38;5;124;43m'\u001B[39;49m\u001B[38;5;124;43md\u001B[39;49m\u001B[38;5;124;43m'\u001B[39;49m\n\u001B[0;32m      2\u001B[0m lst\n",
      "\u001B[1;31mTypeError\u001B[0m: can only concatenate list (not \"str\") to list"
     ]
    }
   ],
   "source": [
    "lst = lst + 'd'\n",
    "lst"
   ]
  },
  {
   "cell_type": "code",
   "execution_count": 24,
   "id": "3dd60bfacc6a6559",
   "metadata": {
    "ExecuteTime": {
     "end_time": "2024-02-25T15:17:41.859650700Z",
     "start_time": "2024-02-25T15:17:41.823053900Z"
    },
    "collapsed": false
   },
   "outputs": [
    {
     "ename": "TypeError",
     "evalue": "'int' object is not iterable",
     "output_type": "error",
     "traceback": [
      "\u001B[1;31m---------------------------------------------------------------------------\u001B[0m",
      "\u001B[1;31mTypeError\u001B[0m                                 Traceback (most recent call last)",
      "Cell \u001B[1;32mIn[24], line 1\u001B[0m\n\u001B[1;32m----> 1\u001B[0m \u001B[43mlst\u001B[49m\u001B[43m \u001B[49m\u001B[38;5;241;43m+\u001B[39;49m\u001B[38;5;241;43m=\u001B[39;49m\u001B[43m \u001B[49m\u001B[38;5;241;43m42\u001B[39;49m\n\u001B[0;32m      2\u001B[0m lst\n",
      "\u001B[1;31mTypeError\u001B[0m: 'int' object is not iterable"
     ]
    }
   ],
   "source": [
    "lst += 42\n",
    "lst"
   ]
  },
  {
   "cell_type": "markdown",
   "id": "beadc2c269aaffed",
   "metadata": {
    "collapsed": false
   },
   "source": [
    "## 3. Однострочники\n",
    "\n",
    "Напишите программы-однострочники для следующих задач. Начните с наивных решений и постепенно двигайтесь в сторону решений кратких и изящных. Старайтесь попутно создавать автоматические тесты на случайных входных данных.\n",
    "\n",
    "Определитесь, в каких случаях решение-однострочник является предпочтительным, а в каких – нет."
   ]
  },
  {
   "cell_type": "markdown",
   "id": "df1489cbd9289ee8",
   "metadata": {
    "collapsed": false
   },
   "source": [
    "**3.1.** (уровень сложности: низкий)\n",
    "\n",
    "Преобразовать элементы списка s из строковой в числовую форму."
   ]
  },
  {
   "cell_type": "markdown",
   "id": "5653939e2936972f",
   "metadata": {
    "collapsed": false
   },
   "source": [
    "**Решение:**"
   ]
  },
  {
   "cell_type": "code",
   "execution_count": 32,
   "id": "a14b39f7b28b4099",
   "metadata": {
    "ExecuteTime": {
     "end_time": "2024-02-25T15:24:37.388323900Z",
     "start_time": "2024-02-25T15:24:37.353369300Z"
    },
    "collapsed": false
   },
   "outputs": [
    {
     "data": {
      "text/plain": [
       "[1, 2, 3, 8, 1, 2]"
      ]
     },
     "execution_count": 32,
     "metadata": {},
     "output_type": "execute_result"
    }
   ],
   "source": [
    "s = ['1', '2', '3', '8', '1', '2']\n",
    "list(map(int, s))"
   ]
  },
  {
   "cell_type": "markdown",
   "id": "62212b46d30a3f8d",
   "metadata": {
    "collapsed": false
   },
   "source": [
    "**3.2.** (уровень сложности: низкий)\n",
    "\n",
    "Подсчитать количество различных элементов в последовательности s."
   ]
  },
  {
   "cell_type": "markdown",
   "id": "f12bc0832636cfd0",
   "metadata": {
    "collapsed": false
   },
   "source": [
    "**Решение:**"
   ]
  },
  {
   "cell_type": "code",
   "execution_count": 33,
   "id": "53ce2c678136d30b",
   "metadata": {
    "ExecuteTime": {
     "end_time": "2024-02-25T15:24:57.225508900Z",
     "start_time": "2024-02-25T15:24:57.188620800Z"
    },
    "collapsed": false
   },
   "outputs": [
    {
     "data": {
      "text/plain": [
       "4"
      ]
     },
     "execution_count": 33,
     "metadata": {},
     "output_type": "execute_result"
    }
   ],
   "source": [
    "s = ['1', '2', '3', '8', '1', '2']\n",
    "len(set(s))"
   ]
  },
  {
   "cell_type": "markdown",
   "id": "4e6df036252a6165",
   "metadata": {
    "collapsed": false
   },
   "source": [
    "**3.3.** (уровень сложности: простейший)\n",
    "\n",
    "Обратить последовательность s без использования функций."
   ]
  },
  {
   "cell_type": "markdown",
   "id": "b02a84aa93d3f45",
   "metadata": {
    "collapsed": false
   },
   "source": [
    "**Решение:**"
   ]
  },
  {
   "cell_type": "code",
   "execution_count": 52,
   "id": "767409cce2f091a9",
   "metadata": {
    "ExecuteTime": {
     "end_time": "2024-02-25T16:03:04.166850600Z",
     "start_time": "2024-02-25T16:03:04.083833700Z"
    },
    "collapsed": false
   },
   "outputs": [
    {
     "data": {
      "text/plain": [
       "['2', '1', '8', '3', '2', '1']"
      ]
     },
     "execution_count": 52,
     "metadata": {},
     "output_type": "execute_result"
    }
   ],
   "source": [
    "s = ['1', '2', '3', '8', '1', '2']\n",
    "s[::-1]"
   ]
  },
  {
   "cell_type": "markdown",
   "id": "7c01bc5fafdbc446",
   "metadata": {
    "collapsed": false
   },
   "source": [
    "**3.4.** (уровень сложности: низкий)\n",
    "\n",
    "Выдать список индексов, на которых найден элемент x в последовательности s."
   ]
  },
  {
   "cell_type": "markdown",
   "id": "854ee9931009e1c2",
   "metadata": {
    "collapsed": false
   },
   "source": [
    "**Решение:**"
   ]
  },
  {
   "cell_type": "code",
   "execution_count": 36,
   "id": "e21788e9d120b435",
   "metadata": {
    "ExecuteTime": {
     "end_time": "2024-02-25T15:29:24.706818200Z",
     "start_time": "2024-02-25T15:29:24.669187500Z"
    },
    "collapsed": false
   },
   "outputs": [
    {
     "data": {
      "text/plain": [
       "[0, 4]"
      ]
     },
     "execution_count": 36,
     "metadata": {},
     "output_type": "execute_result"
    }
   ],
   "source": [
    "s = ['1', '2', '3', '8', '1', '2']\n",
    "x = '1'\n",
    "[i for i, ch in enumerate(s) if ch == x]"
   ]
  },
  {
   "cell_type": "markdown",
   "id": "acfd1e0ed15c6c04",
   "metadata": {
    "collapsed": false
   },
   "source": [
    "**3.5.** (уровень сложности: низкий)\n",
    "\n",
    "Сложить элементы списка s с четными индексами."
   ]
  },
  {
   "cell_type": "markdown",
   "id": "3ae0b70b0bef9c8c",
   "metadata": {
    "collapsed": false
   },
   "source": [
    "**Решение:**"
   ]
  },
  {
   "cell_type": "code",
   "execution_count": 51,
   "id": "a53087501d798d12",
   "metadata": {
    "ExecuteTime": {
     "end_time": "2024-02-25T16:02:44.438902600Z",
     "start_time": "2024-02-25T16:02:44.369438100Z"
    },
    "collapsed": false
   },
   "outputs": [
    {
     "data": {
      "text/plain": [
       "5"
      ]
     },
     "execution_count": 51,
     "metadata": {},
     "output_type": "execute_result"
    }
   ],
   "source": [
    "s = [1, 2, 3, 8, 1, 2]\n",
    "sum(s[::2])"
   ]
  },
  {
   "cell_type": "markdown",
   "id": "df3561cf2d17b44b",
   "metadata": {
    "collapsed": false
   },
   "source": [
    "**3.6.** (уровень сложности: низкий)\n",
    "\n",
    "Найти строку максимальной длины в списке строк s."
   ]
  },
  {
   "cell_type": "markdown",
   "id": "d925e7f323905b15",
   "metadata": {
    "collapsed": false
   },
   "source": [
    "**Решение:**"
   ]
  },
  {
   "cell_type": "code",
   "execution_count": 39,
   "id": "ae05c26b9b4dc316",
   "metadata": {
    "ExecuteTime": {
     "end_time": "2024-02-25T15:34:00.819023900Z",
     "start_time": "2024-02-25T15:34:00.779875800Z"
    },
    "collapsed": false
   },
   "outputs": [
    {
     "data": {
      "text/plain": [
       "'55555'"
      ]
     },
     "execution_count": 39,
     "metadata": {},
     "output_type": "execute_result"
    }
   ],
   "source": [
    "s = ['1', '22', '333', '4444', '1', '22', '55555', '333']\n",
    "max(s, key=len)"
   ]
  },
  {
   "cell_type": "markdown",
   "id": "2ecd39ed9397a412",
   "metadata": {
    "collapsed": false
   },
   "source": [
    "**3.7.** (уровень сложности: низкий)\n",
    "\n",
    "Проверить, относится ли число к числам харшад (делящиеся нацело на сумму своих цифр)."
   ]
  },
  {
   "cell_type": "markdown",
   "id": "9ca14523241d75c8",
   "metadata": {
    "collapsed": false
   },
   "source": [
    "**Решение:**"
   ]
  },
  {
   "cell_type": "code",
   "execution_count": 42,
   "id": "29b175f14dc74acb",
   "metadata": {
    "ExecuteTime": {
     "end_time": "2024-02-25T15:36:08.309312400Z",
     "start_time": "2024-02-25T15:36:08.285017700Z"
    },
    "collapsed": false
   },
   "outputs": [
    {
     "data": {
      "text/plain": [
       "True"
      ]
     },
     "execution_count": 42,
     "metadata": {},
     "output_type": "execute_result"
    }
   ],
   "source": [
    "x = 12\n",
    "x % sum(map(int, str(x))) == 0"
   ]
  },
  {
   "cell_type": "markdown",
   "id": "4bb8f000ed268efd",
   "metadata": {
    "collapsed": false
   },
   "source": [
    "**3.8.** (уровень сложности: низкий)\n",
    "\n",
    "Сгенерировать случайную текстовую строку с заданным максимальным размером."
   ]
  },
  {
   "cell_type": "markdown",
   "id": "d3368e721ec69461",
   "metadata": {
    "collapsed": false
   },
   "source": [
    "**Решение:**"
   ]
  },
  {
   "cell_type": "code",
   "execution_count": 48,
   "id": "5fb6744ae1174eb2",
   "metadata": {
    "ExecuteTime": {
     "end_time": "2024-02-25T15:38:48.644804200Z",
     "start_time": "2024-02-25T15:38:48.608051400Z"
    },
    "collapsed": false
   },
   "outputs": [
    {
     "data": {
      "text/plain": [
       "'adhbjrmdkmotfzscjzingixythyafipybnmabbomihlapawsrfmbxvwtdbzdcgamqffuffhzzdvfttynbnzauiic'"
      ]
     },
     "execution_count": 48,
     "metadata": {},
     "output_type": "execute_result"
    }
   ],
   "source": [
    "from random import choice, randint\n",
    "from string import ascii_lowercase\n",
    "\n",
    "''.join([choice(ascii_lowercase) for _ in range(randint(0, 100))])"
   ]
  },
  {
   "cell_type": "markdown",
   "source": [
    "**3.9.** (уровень сложности: средний)\n",
    "\n",
    "Реализовать функцию-однострочник для RLE-сжатия. Пример работы:\n",
    "\n",
    "```Python\n",
    ">>> rle_encode('ABBCCCDEF')\n",
    "[('A', 1), ('B', 2), ('C', 3), ('D', 1), ('E', 1), ('F', 1)]\n",
    "```"
   ],
   "metadata": {
    "collapsed": false
   },
   "id": "50b13b34651730f4"
  },
  {
   "cell_type": "markdown",
   "source": [
    "**Решение:**"
   ],
   "metadata": {
    "collapsed": false
   },
   "id": "f05d87fb1bdfdfd3"
  },
  {
   "cell_type": "code",
   "outputs": [
    {
     "data": {
      "text/plain": "[('A', 1), ('B', 2), ('C', 3), ('D', 1), ('E', 1), ('F', 1)]"
     },
     "execution_count": 1,
     "metadata": {},
     "output_type": "execute_result"
    }
   ],
   "source": [
    "def rle_encode(s):\n",
    "    return [(s[i], i - [j for j in range(i, -1, -1) if s[j] != s[i] or j == 0][0] + (1 if i == 0 else 0)) for i in range(len(s)) if i + 1 < len(s) and s[i + 1] != s[i] or i + 1 == len(s)]\n",
    "\n",
    "rle_encode('ABBCCCDEF')"
   ],
   "metadata": {
    "collapsed": false,
    "ExecuteTime": {
     "end_time": "2024-03-14T12:50:50.276063Z",
     "start_time": "2024-03-14T12:50:50.266683Z"
    }
   },
   "id": "f898a05af45e8ae6",
   "execution_count": 1
  },
  {
   "cell_type": "markdown",
   "id": "68bb7bf09f815e1a",
   "metadata": {
    "collapsed": false
   },
   "source": [
    "## 4. Ассорти из небольших задач"
   ]
  },
  {
   "cell_type": "markdown",
   "id": "8e15657faf6d5562",
   "metadata": {
    "collapsed": false
   },
   "source": [
    "**4.1.** (уровень сложности: низкий)\n",
    "\n",
    "Напишите функцию generate_groups(), которая компактно генерирует (а не просто выдает готовый) список всех названий групп в том виде, который используется на сайте ЦАП. Результат оценивается с точки зрения размера кода и его читаемости."
   ]
  },
  {
   "cell_type": "markdown",
   "id": "64c60e3438dade3f",
   "metadata": {
    "collapsed": false
   },
   "source": [
    "**Решение:**"
   ]
  },
  {
   "cell_type": "code",
   "execution_count": 57,
   "id": "323c15db9aeab73a",
   "metadata": {
    "ExecuteTime": {
     "end_time": "2024-02-25T16:20:00.136994100Z",
     "start_time": "2024-02-25T16:20:00.070831800Z"
    },
    "collapsed": false
   },
   "outputs": [
    {
     "name": "stdout",
     "output_type": "stream",
     "text": [
      "ИВБО\n",
      "ИВБО-01-22 ИВБО-02-22 ИВБО-03-22 ИВБО-04-22 ИВБО-05-22 ИВБО-06-22 ИВБО-07-22 ИВБО-08-22 ИВБО-09-22\n",
      "\n",
      "ИКБО\n",
      "ИКБО-01-22 ИКБО-02-22 ИКБО-03-22 ИКБО-04-22 ИКБО-05-22 ИКБО-06-22 ИКБО-07-22 ИКБО-08-22 ИКБО-09-22 ИКБО-10-22 ИКБО-11-22 ИКБО-12-22 ИКБО-13-22 ИКБО-14-22 ИКБО-15-22 ИКБО-16-22 ИКБО-17-22 ИКБО-18-22 ИКБО-19-22 ИКБО-20-22 ИКБО-21-22 ИКБО-22-22 ИКБО-23-22 ИКБО-24-22 ИКБО-25-22 ИКБО-26-22 ИКБО-27-22 ИКБО-28-22 ИКБО-29-22 ИКБО-30-22 ИКБО-31-22 ИКБО-32-22 ИКБО-33-22 ИКБО-34-22 ИКБО-35-22 ИКБО-36-22 ИКБО-37-22\n",
      "\n",
      "ИМБО\n",
      "ИМБО-01-22 ИМБО-02-22\n",
      "\n",
      "ИНБО\n",
      "ИНБО-01-22 ИНБО-02-22 ИНБО-03-22 ИНБО-04-22 ИНБО-05-22 ИНБО-06-22 ИНБО-07-22 ИНБО-08-22 ИНБО-09-22 ИНБО-10-22 ИНБО-11-22 ИНБО-12-22\n"
     ]
    }
   ],
   "source": [
    "def get_groups(group_count, year):\n",
    "    res = {}\n",
    "    for spec, count in group_count.items():\n",
    "        res[spec] = [f'{spec}-{i:02}-{year}' for i in range(1, count + 1)]\n",
    "    return res\n",
    "\n",
    "\n",
    "def print_groups(groups):\n",
    "    for spec, group in groups.items():\n",
    "        print(spec)\n",
    "        print(' '.join(group), end='\\n\\n')\n",
    "    \n",
    "    \n",
    "GROUPS_COUNT = {'ИВБО': 9, 'ИКБО': 37, 'ИМБО': 2, 'ИНБО': 12}\n",
    "YEAR = 22\n",
    "group = get_groups(GROUPS_COUNT, YEAR)\n",
    "print_groups(group)"
   ]
  },
  {
   "cell_type": "markdown",
   "id": "f2dc23a9c034649e",
   "metadata": {
    "collapsed": false
   },
   "source": [
    "**4.2.** (уровень сложности: средний)\n",
    "\n",
    "Вы получили зашифрованное сообщение и теперь предстоит его расшифровать:\n",
    "\n",
    "```\n",
    "E3238557 6204A1F8 E6537611 174E5747\n",
    "5D954DA8 8C2DFE97 2911CB4C 2CB7C66B\n",
    "E7F185A0 C7E3FA40 42419867 374044DF\n",
    "2519F07D 5A0C24D4 F4A960C5 31159418\n",
    "F2768EC7 AEAF14CF 071B2C95 C9F22699\n",
    "FFB06F41 2AC90051 A53F035D 830601A7\n",
    "EB475702 183BAA6F 12626744 9B75A72F\n",
    "8DBFBFEC 73C1A46E FFB06F41 2AC90051\n",
    "97C5E4E9 B1C26A21 DD4A3463 6B71162F\n",
    "8C075668 7975D565 6D95A700 7272E637\n",
    "```\n",
    "\n",
    "Известно, что для зашифрования использовался алгоритм TEA. Известен также ключ зашифрования/расшифрования:\n",
    "\n",
    "```\n",
    "k = [0, 4, 5, 1]\n",
    "```\n",
    "\n",
    "Имеется и функция на C/C++ для расшифровки данных (v – слова данных, k – ключ):\n",
    "\n",
    "```C\n",
    "void decrypt(uint32_t v[2], const uint32_t k[4]) {\n",
    "    uint32_t v0 = v[0], v1 = v[1], sum = 0xC6EF3720, i;\n",
    "    uint32_t delta = 0x9E3779B9;\n",
    "    uint32_t k0 = k[0], k1 = k[1], k2 = k[2], k3 = k[3];\n",
    "    for (i = 0; i < 32; i++) {\n",
    "        v1 -= ((v0 << 4) + k2) ^ (v0 + sum) ^ ((v0 >> 5) + k3);\n",
    "        v0 -= ((v1 << 4) + k0) ^ (v1 + sum) ^ ((v1 >> 5) + k1);\n",
    "        sum -= delta;\n",
    "    }\n",
    "    v[0] = v0; v[1] = v1;\n",
    "}\n",
    "```\n",
    "\n",
    "Остается перевести функцию decrypt на Питон и узнать, что же содержится в зашифрованном сообщении!"
   ]
  },
  {
   "cell_type": "markdown",
   "id": "3d1cffa45e880da8",
   "metadata": {
    "collapsed": false
   },
   "source": [
    "**Решение:**"
   ]
  },
  {
   "cell_type": "code",
   "execution_count": 78,
   "id": "8acfedc56320c82b",
   "metadata": {
    "collapsed": false,
    "ExecuteTime": {
     "end_time": "2024-02-25T16:56:44.640218Z",
     "start_time": "2024-02-25T16:56:44.573455400Z"
    }
   },
   "outputs": [
    {
     "data": {
      "text/plain": "'Поздравляю! Вы нашли секретное сообщение'"
     },
     "execution_count": 78,
     "metadata": {},
     "output_type": "execute_result"
    }
   ],
   "source": [
    "from ctypes import c_uint32\n",
    "\n",
    "def decrypt(v,k):\n",
    "    v0 = c_uint32(v[0])\n",
    "    v1 = c_uint32(v[1])\n",
    "    s = 0xC6EF3720\n",
    "    delta = 0x9E3779B9\n",
    "    k0 = k[0]\n",
    "    k1 = k[1]\n",
    "    k2 = k[2]\n",
    "    k3 = k[3]\n",
    "    \n",
    "    for i in range(32):\n",
    "        v1.value -= ((v0.value << 4) + k2) ^ (v0.value + s) ^ ((v0.value >> 5) + k3)\n",
    "        v0.value -= ((v1.value << 4) + k0) ^ (v1.value + s) ^ ((v1.value >> 5) + k1)\n",
    "        s -= delta\n",
    "    \n",
    "    return v0.value, v1.value\n",
    "\n",
    "KEY = [0, 4, 5, 1]\n",
    "message = '''\n",
    "E3238557 6204A1F8 E6537611 174E5747\n",
    "5D954DA8 8C2DFE97 2911CB4C 2CB7C66B\n",
    "E7F185A0 C7E3FA40 42419867 374044DF\n",
    "2519F07D 5A0C24D4 F4A960C5 31159418\n",
    "F2768EC7 AEAF14CF 071B2C95 C9F22699\n",
    "FFB06F41 2AC90051 A53F035D 830601A7\n",
    "EB475702 183BAA6F 12626744 9B75A72F\n",
    "8DBFBFEC 73C1A46E FFB06F41 2AC90051\n",
    "97C5E4E9 B1C26A21 DD4A3463 6B71162F\n",
    "8C075668 7975D565 6D95A700 7272E637\n",
    "'''\n",
    "message_list = list(map(lambda s: int(s, 16), message.split()))\n",
    "\n",
    "res = []\n",
    "for i in range(0, len(message_list), 2):\n",
    "    res += decrypt(message_list[i:i+2], KEY)\n",
    "\n",
    "''.join(map(chr, res))"
   ]
  }
 ],
 "metadata": {
  "kernelspec": {
   "display_name": "Python 3 (ipykernel)",
   "language": "python",
   "name": "python3"
  },
  "language_info": {
   "codemirror_mode": {
    "name": "ipython",
    "version": 3
   },
   "file_extension": ".py",
   "mimetype": "text/x-python",
   "name": "python",
   "nbconvert_exporter": "python",
   "pygments_lexer": "ipython3",
   "version": "3.12.0"
  }
 },
 "nbformat": 4,
 "nbformat_minor": 5
}
