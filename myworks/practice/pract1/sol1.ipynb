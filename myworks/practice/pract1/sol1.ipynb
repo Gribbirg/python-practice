{
 "cells": [
  {
   "cell_type": "markdown",
   "id": "53f8d0cc83de464e",
   "metadata": {
    "collapsed": false
   },
   "source": [
    "# Практическое занятие №1\n",
    "\n",
    "Выполнил: *Грибков А.С.*\n",
    "\n",
    "Группа: *ИКБО-16-22*"
   ]
  },
  {
   "cell_type": "markdown",
   "id": "5e7851673a1b18df",
   "metadata": {
    "collapsed": false
   },
   "source": [
    "## 1. Знакомство с языком"
   ]
  },
  {
   "cell_type": "markdown",
   "id": "ea11ec2ab35ed7a5",
   "metadata": {
    "collapsed": false
   },
   "source": [
    "**1.4.** (уровень сложности: низкий)\n",
    "\n",
    "C приведенным ниже циклом что-то не так. Как это исправить?\n",
    "\n",
    "Что на самом деле представляет собой 0.1 внутри интерпретатора? Можно ли увидеть его настоящее значение? [Поэкспериментируйте](https://float.exposed/0x44bf9400)."
   ]
  },
  {
   "cell_type": "code",
   "outputs": [],
   "source": [
    "a = 10\n",
    "while a != 0:\n",
    "    a -= 0.1"
   ],
   "metadata": {
    "collapsed": false
   },
   "id": "b2ecb83edabf814e",
   "execution_count": null
  },
  {
   "cell_type": "markdown",
   "id": "7a89941415406517",
   "metadata": {
    "collapsed": false
   },
   "source": [
    "**Решение:**\n",
    "\n",
    "Точность чисел с плавающей точкой ограничена, поэтому при вычитании 0.1 образуется небольшая погрешность и число никогда не будет ровно 0.\n",
    "\n",
    "Вывод значения переменной:"
   ]
  },
  {
   "cell_type": "code",
   "execution_count": 2,
   "id": "438bb01b46de2006",
   "metadata": {
    "ExecuteTime": {
     "end_time": "2024-02-25T08:13:42.294969600Z",
     "start_time": "2024-02-25T08:13:42.254436800Z"
    },
    "collapsed": false
   },
   "outputs": [
    {
     "name": "stdout",
     "output_type": "stream",
     "text": [
      "9.9\n",
      "9.8\n",
      "9.700000000000001\n",
      "9.600000000000001\n",
      "9.500000000000002\n",
      "9.400000000000002\n",
      "9.300000000000002\n",
      "9.200000000000003\n",
      "9.100000000000003\n",
      "9.000000000000004\n",
      "8.900000000000004\n",
      "8.800000000000004\n",
      "8.700000000000005\n",
      "8.600000000000005\n",
      "8.500000000000005\n",
      "8.400000000000006\n",
      "8.300000000000006\n",
      "8.200000000000006\n",
      "8.100000000000007\n",
      "8.000000000000007\n",
      "7.9000000000000075\n",
      "7.800000000000008\n",
      "7.700000000000008\n",
      "7.6000000000000085\n",
      "7.500000000000009\n",
      "7.400000000000009\n",
      "7.30000000000001\n",
      "7.20000000000001\n",
      "7.10000000000001\n",
      "7.000000000000011\n",
      "6.900000000000011\n",
      "6.800000000000011\n",
      "6.700000000000012\n",
      "6.600000000000012\n",
      "6.500000000000012\n",
      "6.400000000000013\n",
      "6.300000000000013\n",
      "6.2000000000000135\n",
      "6.100000000000014\n",
      "6.000000000000014\n",
      "5.900000000000015\n",
      "5.800000000000015\n",
      "5.700000000000015\n",
      "5.600000000000016\n",
      "5.500000000000016\n",
      "5.400000000000016\n",
      "5.300000000000017\n",
      "5.200000000000017\n",
      "5.100000000000017\n",
      "5.000000000000018\n",
      "4.900000000000018\n",
      "4.8000000000000185\n",
      "4.700000000000019\n",
      "4.600000000000019\n",
      "4.5000000000000195\n",
      "4.40000000000002\n",
      "4.30000000000002\n",
      "4.200000000000021\n",
      "4.100000000000021\n",
      "4.000000000000021\n",
      "3.9000000000000212\n",
      "3.800000000000021\n",
      "3.700000000000021\n",
      "3.600000000000021\n",
      "3.500000000000021\n",
      "3.400000000000021\n",
      "3.3000000000000207\n",
      "3.2000000000000206\n",
      "3.1000000000000205\n",
      "3.0000000000000204\n",
      "2.9000000000000203\n",
      "2.8000000000000203\n",
      "2.70000000000002\n",
      "2.60000000000002\n",
      "2.50000000000002\n",
      "2.40000000000002\n",
      "2.30000000000002\n",
      "2.2000000000000197\n",
      "2.1000000000000196\n",
      "2.0000000000000195\n",
      "1.9000000000000195\n",
      "1.8000000000000194\n",
      "1.7000000000000193\n",
      "1.6000000000000192\n",
      "1.500000000000019\n",
      "1.400000000000019\n",
      "1.300000000000019\n",
      "1.2000000000000188\n",
      "1.1000000000000187\n",
      "1.0000000000000187\n",
      "0.9000000000000187\n",
      "0.8000000000000187\n",
      "0.7000000000000187\n",
      "0.6000000000000187\n",
      "0.5000000000000188\n",
      "0.4000000000000188\n",
      "0.3000000000000188\n",
      "0.2000000000000188\n",
      "0.1000000000000188\n",
      "1.8790524691780774e-14\n",
      "-0.09999999999998122\n",
      "-0.19999999999998122\n",
      "-0.2999999999999812\n",
      "-0.39999999999998126\n",
      "-0.49999999999998124\n",
      "-0.5999999999999812\n",
      "-0.6999999999999812\n",
      "-0.7999999999999812\n",
      "-0.8999999999999811\n",
      "-0.9999999999999811\n",
      "-1.0999999999999812\n"
     ]
    }
   ],
   "source": [
    "a = 10\n",
    "while a != 0:\n",
    "    a -= 0.1\n",
    "    \n",
    "    print(a)\n",
    "    if a < -1:\n",
    "        break"
   ]
  },
  {
   "cell_type": "markdown",
   "source": [
    "**1.6.** (уровень сложности: низкий)\n",
    "\n",
    "Да-да, и этот код зацикливается! А тут-то что не так?"
   ],
   "metadata": {
    "collapsed": false
   },
   "id": "7cb8e5b03c6414dd"
  },
  {
   "cell_type": "code",
   "outputs": [],
   "source": [
    "i = 0\n",
    "while i < 10:\n",
    "    print(i)\n",
    "    ++i"
   ],
   "metadata": {
    "collapsed": false
   },
   "id": "adad9d5fbe77d988",
   "execution_count": null
  },
  {
   "cell_type": "markdown",
   "source": [
    "**Решение:**\n",
    "\n",
    "В Python отсутствует оператор *++*. В данном случае, *++* является обозначением знака числа. Таким образом, значение *i* в цикле не меняется."
   ],
   "metadata": {
    "collapsed": false
   },
   "id": "797f0c69956da11c"
  },
  {
   "cell_type": "markdown",
   "source": [
    "**1.7.** (уровень сложности: низкий)\n",
    "\n",
    "Что за странное выражение и странный результат?"
   ],
   "metadata": {
    "collapsed": false
   },
   "id": "9f30521861a0e1f6"
  },
  {
   "cell_type": "code",
   "outputs": [
    {
     "data": {
      "text/plain": "-2"
     },
     "execution_count": 3,
     "metadata": {},
     "output_type": "execute_result"
    }
   ],
   "source": [
    "(True * 2 + False) * -True"
   ],
   "metadata": {
    "collapsed": false,
    "ExecuteTime": {
     "end_time": "2024-02-25T08:22:58.912422300Z",
     "start_time": "2024-02-25T08:22:58.865320400Z"
    }
   },
   "id": "90d1b75d60e534f5",
   "execution_count": 3
  },
  {
   "cell_type": "markdown",
   "source": [
    "**Решение:**\n",
    "\n",
    "Для выполнения арифметических операций *bool* переходит в *int*:\n",
    "- True = 1\n",
    "- False = 0\n",
    "\n",
    "Таким образом, данное выражение преобразуется в:"
   ],
   "metadata": {
    "collapsed": false
   },
   "id": "b51191b0811424d5"
  },
  {
   "cell_type": "code",
   "outputs": [
    {
     "data": {
      "text/plain": "-2"
     },
     "execution_count": 5,
     "metadata": {},
     "output_type": "execute_result"
    }
   ],
   "source": [
    "(1 * 2 + 0) * -1"
   ],
   "metadata": {
    "collapsed": false,
    "ExecuteTime": {
     "end_time": "2024-02-25T08:25:36.495656800Z",
     "start_time": "2024-02-25T08:25:36.448568200Z"
    }
   },
   "id": "17819854e0b7dd4e",
   "execution_count": 5
  },
  {
   "cell_type": "markdown",
   "source": [
    "**1.8.** (уровень сложности: низкий)\n",
    "\n",
    "В Питоне можно использовать цепочки операций сравнения. Рассмотрите следующие примеры и попробуйте объяснить код:"
   ],
   "metadata": {
    "collapsed": false
   },
   "id": "6d4e407ee3bb2941"
  },
  {
   "cell_type": "code",
   "outputs": [
    {
     "data": {
      "text/plain": "True"
     },
     "execution_count": 6,
     "metadata": {},
     "output_type": "execute_result"
    }
   ],
   "source": [
    "x = 5\n",
    "1 < x < 10"
   ],
   "metadata": {
    "collapsed": false,
    "ExecuteTime": {
     "end_time": "2024-02-25T08:28:26.698805Z",
     "start_time": "2024-02-25T08:28:26.654937900Z"
    }
   },
   "id": "7393321e7fa8dc0c",
   "execution_count": 6
  },
  {
   "cell_type": "code",
   "outputs": [
    {
     "data": {
      "text/plain": "False"
     },
     "execution_count": 7,
     "metadata": {},
     "output_type": "execute_result"
    }
   ],
   "source": [
    "x = 5\n",
    "1 < (x < 10)"
   ],
   "metadata": {
    "collapsed": false,
    "ExecuteTime": {
     "end_time": "2024-02-25T08:28:32.971870400Z",
     "start_time": "2024-02-25T08:28:32.916977400Z"
    }
   },
   "id": "b97e97c141c23ee8",
   "execution_count": 7
  },
  {
   "cell_type": "markdown",
   "source": [
    "**Решение:**\n",
    "\n",
    "Первое выражение аналогично следующему:"
   ],
   "metadata": {
    "collapsed": false
   },
   "id": "436fddc0c3e6c06c"
  },
  {
   "cell_type": "code",
   "outputs": [
    {
     "data": {
      "text/plain": "True"
     },
     "execution_count": 9,
     "metadata": {},
     "output_type": "execute_result"
    }
   ],
   "source": [
    "x = 5\n",
    "1 < x and x < 10"
   ],
   "metadata": {
    "collapsed": false,
    "ExecuteTime": {
     "end_time": "2024-02-25T08:30:14.412700900Z",
     "start_time": "2024-02-25T08:30:14.351410Z"
    }
   },
   "id": "f5db1f3302d8aefb",
   "execution_count": 9
  },
  {
   "cell_type": "markdown",
   "source": [
    "Второе же выполняется поэтапно:"
   ],
   "metadata": {
    "collapsed": false
   },
   "id": "c06f897bc2ed655f"
  },
  {
   "cell_type": "code",
   "outputs": [
    {
     "data": {
      "text/plain": "False"
     },
     "execution_count": 14,
     "metadata": {},
     "output_type": "execute_result"
    }
   ],
   "source": [
    "x = 5\n",
    "'''\n",
    "1 < (x < 10)\n",
    "1 < True\n",
    "'''\n",
    "1 < 1"
   ],
   "metadata": {
    "collapsed": false,
    "ExecuteTime": {
     "end_time": "2024-02-25T08:33:10.156508Z",
     "start_time": "2024-02-25T08:33:10.120757600Z"
    }
   },
   "id": "6d30747b4a652049",
   "execution_count": 14
  },
  {
   "cell_type": "markdown",
   "source": [
    "## 2. Сообщения об ошибках"
   ],
   "metadata": {
    "collapsed": false
   },
   "id": "24383652215809de"
  },
  {
   "cell_type": "markdown",
   "source": [
    "К сообщениям об ошибках Питона нужно привыкать, в них нет ничего страшного. Давайте специально напишем некорректный код для того, чтобы получить каждое из указанных ниже сообщений об ошибках."
   ],
   "metadata": {
    "collapsed": false
   },
   "id": "b07eeaece515af5f"
  },
  {
   "cell_type": "markdown",
   "source": [
    "**2.1.** (уровень сложности: простейший)\n",
    "\n",
    "SyntaxError: invalid syntax"
   ],
   "metadata": {
    "collapsed": false
   },
   "id": "629be3c6c628eac0"
  },
  {
   "cell_type": "markdown",
   "source": [
    "**Решение:**"
   ],
   "metadata": {
    "collapsed": false
   },
   "id": "62fc1c6dd62feb5f"
  },
  {
   "cell_type": "code",
   "outputs": [
    {
     "ename": "SyntaxError",
     "evalue": "invalid syntax (1761119685.py, line 1)",
     "output_type": "error",
     "traceback": [
      "\u001B[1;36m  Cell \u001B[1;32mIn[15], line 1\u001B[1;36m\u001B[0m\n\u001B[1;33m    5 10\u001B[0m\n\u001B[1;37m      ^\u001B[0m\n\u001B[1;31mSyntaxError\u001B[0m\u001B[1;31m:\u001B[0m invalid syntax\n"
     ]
    }
   ],
   "source": [
    "5 10"
   ],
   "metadata": {
    "collapsed": false,
    "ExecuteTime": {
     "end_time": "2024-02-25T08:40:38.683422500Z",
     "start_time": "2024-02-25T08:40:38.580559700Z"
    }
   },
   "id": "26c424ecf8a58f0f",
   "execution_count": 15
  },
  {
   "cell_type": "markdown",
   "source": [
    "**2.2.** (уровень сложности: простейший)\n",
    "\n",
    "SyntaxError: cannot assign to literal"
   ],
   "metadata": {
    "collapsed": false
   },
   "id": "221a9a7c5d88ef58"
  },
  {
   "cell_type": "markdown",
   "source": [
    "**Решение:**"
   ],
   "metadata": {
    "collapsed": false
   },
   "id": "cbb96af3819e4325"
  },
  {
   "cell_type": "code",
   "outputs": [
    {
     "ename": "SyntaxError",
     "evalue": "cannot assign to literal here. Maybe you meant '==' instead of '='? (3324831686.py, line 1)",
     "output_type": "error",
     "traceback": [
      "\u001B[1;36m  Cell \u001B[1;32mIn[17], line 1\u001B[1;36m\u001B[0m\n\u001B[1;33m    1 = \"one\"\u001B[0m\n\u001B[1;37m    ^\u001B[0m\n\u001B[1;31mSyntaxError\u001B[0m\u001B[1;31m:\u001B[0m cannot assign to literal here. Maybe you meant '==' instead of '='?\n"
     ]
    }
   ],
   "source": [
    "1 = \"one\""
   ],
   "metadata": {
    "collapsed": false,
    "ExecuteTime": {
     "end_time": "2024-02-25T08:41:22.411813600Z",
     "start_time": "2024-02-25T08:41:22.314607800Z"
    }
   },
   "id": "7507d28113e9ad67",
   "execution_count": 17
  },
  {
   "cell_type": "markdown",
   "source": [
    "**2.3.** (уровень сложности: простейший)\n",
    "\n",
    "NameError: name ... is not defined"
   ],
   "metadata": {
    "collapsed": false
   },
   "id": "d9f2c45b2cbafc4f"
  },
  {
   "cell_type": "markdown",
   "source": [
    "**Решение:**"
   ],
   "metadata": {
    "collapsed": false
   },
   "id": "32703bf521ff80e"
  },
  {
   "cell_type": "code",
   "outputs": [
    {
     "ename": "NameError",
     "evalue": "name 'avtomat' is not defined",
     "output_type": "error",
     "traceback": [
      "\u001B[1;31m---------------------------------------------------------------------------\u001B[0m",
      "\u001B[1;31mNameError\u001B[0m                                 Traceback (most recent call last)",
      "Cell \u001B[1;32mIn[20], line 1\u001B[0m\n\u001B[1;32m----> 1\u001B[0m \u001B[43mavtomat\u001B[49m\n",
      "\u001B[1;31mNameError\u001B[0m: name 'avtomat' is not defined"
     ]
    }
   ],
   "source": [
    "avtomat"
   ],
   "metadata": {
    "collapsed": false,
    "ExecuteTime": {
     "end_time": "2024-02-25T08:42:02.722566700Z",
     "start_time": "2024-02-25T08:42:02.657579700Z"
    }
   },
   "id": "f367e3572430ec82",
   "execution_count": 20
  },
  {
   "cell_type": "markdown",
   "source": [
    "**2.4.** (уровень сложности: простейший)\n",
    "\n",
    "SyntaxError: unterminated string literal"
   ],
   "metadata": {
    "collapsed": false
   },
   "id": "eb4f29cea7604008"
  },
  {
   "cell_type": "markdown",
   "source": [
    "**Решение:**"
   ],
   "metadata": {
    "collapsed": false
   },
   "id": "77a4fada30184d7e"
  },
  {
   "cell_type": "code",
   "outputs": [
    {
     "ename": "SyntaxError",
     "evalue": "unterminated string literal (detected at line 1) (2625583532.py, line 1)",
     "output_type": "error",
     "traceback": [
      "\u001B[1;36m  Cell \u001B[1;32mIn[21], line 1\u001B[1;36m\u001B[0m\n\u001B[1;33m    \"start\u001B[0m\n\u001B[1;37m    ^\u001B[0m\n\u001B[1;31mSyntaxError\u001B[0m\u001B[1;31m:\u001B[0m unterminated string literal (detected at line 1)\n"
     ]
    }
   ],
   "source": [
    "\"start\n",
    " end\""
   ],
   "metadata": {
    "collapsed": false,
    "ExecuteTime": {
     "end_time": "2024-02-25T08:43:09.590197800Z",
     "start_time": "2024-02-25T08:43:09.394014200Z"
    }
   },
   "id": "f0338c68545c1472",
   "execution_count": 21
  },
  {
   "cell_type": "markdown",
   "source": [
    "**2.5.** (уровень сложности: простейший)\n",
    "\n",
    "TypeError: unsupported operand type(s) for ..."
   ],
   "metadata": {
    "collapsed": false
   },
   "id": "202077cff9f11114"
  },
  {
   "cell_type": "markdown",
   "source": [
    "**Решение:**"
   ],
   "metadata": {
    "collapsed": false
   },
   "id": "487545fa228b9fe6"
  },
  {
   "cell_type": "code",
   "outputs": [
    {
     "ename": "TypeError",
     "evalue": "unsupported operand type(s) for -: 'str' and 'str'",
     "output_type": "error",
     "traceback": [
      "\u001B[1;31m---------------------------------------------------------------------------\u001B[0m",
      "\u001B[1;31mTypeError\u001B[0m                                 Traceback (most recent call last)",
      "Cell \u001B[1;32mIn[22], line 1\u001B[0m\n\u001B[1;32m----> 1\u001B[0m \u001B[38;5;124;43m\"\u001B[39;49m\u001B[38;5;124;43ma\u001B[39;49m\u001B[38;5;124;43m\"\u001B[39;49m\u001B[43m \u001B[49m\u001B[38;5;241;43m-\u001B[39;49m\u001B[43m \u001B[49m\u001B[38;5;124;43m\"\u001B[39;49m\u001B[38;5;124;43mb\u001B[39;49m\u001B[38;5;124;43m\"\u001B[39;49m\n",
      "\u001B[1;31mTypeError\u001B[0m: unsupported operand type(s) for -: 'str' and 'str'"
     ]
    }
   ],
   "source": [
    "\"a\" - \"b\""
   ],
   "metadata": {
    "collapsed": false,
    "ExecuteTime": {
     "end_time": "2024-02-25T08:43:51.698541500Z",
     "start_time": "2024-02-25T08:43:51.594450500Z"
    }
   },
   "id": "acb1ed52f394f109",
   "execution_count": 22
  },
  {
   "cell_type": "markdown",
   "source": [
    "**2.6.** (уровень сложности: простейший)\n",
    "\n",
    "IndentationError: expected an indented block"
   ],
   "metadata": {
    "collapsed": false
   },
   "id": "8c268c14b11bc1b6"
  },
  {
   "cell_type": "markdown",
   "source": [
    "**Решение:**"
   ],
   "metadata": {
    "collapsed": false
   },
   "id": "15d34197dd6fbe24"
  },
  {
   "cell_type": "code",
   "outputs": [
    {
     "ename": "IndentationError",
     "evalue": "expected an indented block after 'if' statement on line 1 (2174492714.py, line 2)",
     "output_type": "error",
     "traceback": [
      "\u001B[1;36m  Cell \u001B[1;32mIn[23], line 2\u001B[1;36m\u001B[0m\n\u001B[1;33m    print(\"Hello\")\u001B[0m\n\u001B[1;37m    ^\u001B[0m\n\u001B[1;31mIndentationError\u001B[0m\u001B[1;31m:\u001B[0m expected an indented block after 'if' statement on line 1\n"
     ]
    }
   ],
   "source": [
    "if True:\n",
    "print(\"Hello\")"
   ],
   "metadata": {
    "collapsed": false,
    "ExecuteTime": {
     "end_time": "2024-02-25T08:44:41.675667800Z",
     "start_time": "2024-02-25T08:44:41.620923300Z"
    }
   },
   "id": "74dd725666580924",
   "execution_count": 23
  },
  {
   "cell_type": "markdown",
   "source": [
    "**2.7.** (уровень сложности: простейший)\n",
    "\n",
    "IndentationError: unindent does not match any outer indentation level"
   ],
   "metadata": {
    "collapsed": false
   },
   "id": "974a37105903cbeb"
  },
  {
   "cell_type": "markdown",
   "source": [
    "**Решение:**"
   ],
   "metadata": {
    "collapsed": false
   },
   "id": "e6849f40b7849cf6"
  },
  {
   "cell_type": "code",
   "outputs": [
    {
     "ename": "IndentationError",
     "evalue": "unindent does not match any outer indentation level (<string>, line 3)",
     "output_type": "error",
     "traceback": [
      "\u001B[1;36m  File \u001B[1;32m<string>:3\u001B[1;36m\u001B[0m\n\u001B[1;33m    print(2)\u001B[0m\n\u001B[1;37m            ^\u001B[0m\n\u001B[1;31mIndentationError\u001B[0m\u001B[1;31m:\u001B[0m unindent does not match any outer indentation level\n"
     ]
    }
   ],
   "source": [
    "if True:\n",
    "    print(1)\n",
    "  print(2)"
   ],
   "metadata": {
    "collapsed": false,
    "ExecuteTime": {
     "end_time": "2024-02-25T08:48:07.523580100Z",
     "start_time": "2024-02-25T08:48:07.462262600Z"
    }
   },
   "id": "c7648b86f4335d8",
   "execution_count": 33
  },
  {
   "cell_type": "markdown",
   "source": [
    "**2.8.** (уровень сложности: простейший)\n",
    "\n",
    "ValueError: math domain error"
   ],
   "metadata": {
    "collapsed": false
   },
   "id": "52bc1421eb463648"
  },
  {
   "cell_type": "markdown",
   "source": [
    "**Решение:**"
   ],
   "metadata": {
    "collapsed": false
   },
   "id": "86f5269483bd3e60"
  },
  {
   "cell_type": "code",
   "outputs": [
    {
     "ename": "ValueError",
     "evalue": "math domain error",
     "output_type": "error",
     "traceback": [
      "\u001B[1;31m---------------------------------------------------------------------------\u001B[0m",
      "\u001B[1;31mValueError\u001B[0m                                Traceback (most recent call last)",
      "Cell \u001B[1;32mIn[35], line 3\u001B[0m\n\u001B[0;32m      1\u001B[0m \u001B[38;5;28;01mfrom\u001B[39;00m \u001B[38;5;21;01mmath\u001B[39;00m \u001B[38;5;28;01mimport\u001B[39;00m sqrt\n\u001B[1;32m----> 3\u001B[0m \u001B[43msqrt\u001B[49m\u001B[43m(\u001B[49m\u001B[38;5;241;43m-\u001B[39;49m\u001B[38;5;241;43m1\u001B[39;49m\u001B[43m)\u001B[49m\n",
      "\u001B[1;31mValueError\u001B[0m: math domain error"
     ]
    }
   ],
   "source": [
    "from math import sqrt\n",
    "\n",
    "sqrt(-1)"
   ],
   "metadata": {
    "collapsed": false,
    "ExecuteTime": {
     "end_time": "2024-02-25T08:49:46.059291900Z",
     "start_time": "2024-02-25T08:49:45.993627300Z"
    }
   },
   "id": "50fb5ebb55df0c7f",
   "execution_count": 35
  },
  {
   "cell_type": "markdown",
   "source": [
    "**2.9.** (уровень сложности: простейший)\n",
    "\n",
    "OverflowError: math range error"
   ],
   "metadata": {
    "collapsed": false
   },
   "id": "38c92f5407df74f4"
  },
  {
   "cell_type": "markdown",
   "source": [
    "**Решение:**"
   ],
   "metadata": {
    "collapsed": false
   },
   "id": "b47c75b2358644ea"
  },
  {
   "cell_type": "code",
   "outputs": [
    {
     "ename": "OverflowError",
     "evalue": "math range error",
     "output_type": "error",
     "traceback": [
      "\u001B[1;31m---------------------------------------------------------------------------\u001B[0m",
      "\u001B[1;31mOverflowError\u001B[0m                             Traceback (most recent call last)",
      "Cell \u001B[1;32mIn[2], line 3\u001B[0m\n\u001B[0;32m      1\u001B[0m \u001B[38;5;28;01mfrom\u001B[39;00m \u001B[38;5;21;01mmath\u001B[39;00m \u001B[38;5;28;01mimport\u001B[39;00m exp\n\u001B[1;32m----> 3\u001B[0m \u001B[43mexp\u001B[49m\u001B[43m(\u001B[49m\u001B[38;5;241;43m200000\u001B[39;49m\u001B[43m)\u001B[49m\n",
      "\u001B[1;31mOverflowError\u001B[0m: math range error"
     ]
    }
   ],
   "source": [
    "from math import exp\n",
    "\n",
    "exp(200000)"
   ],
   "metadata": {
    "collapsed": false,
    "ExecuteTime": {
     "end_time": "2024-02-25T08:54:09.020836700Z",
     "start_time": "2024-02-25T08:54:08.897040600Z"
    }
   },
   "id": "ffde79118d847435",
   "execution_count": 2
  },
  {
   "cell_type": "markdown",
   "source": [
    "## 3. Арифметика"
   ],
   "metadata": {
    "collapsed": false
   },
   "id": "495d86b0a1b5ec66"
  },
  {
   "cell_type": "markdown",
   "source": [
    "Мир микропроцессоров не ограничивается только большими чипами для настольных применений. Маломощные микроконтроллеры могут выступать в роли умных датчиков в задачах, связанных с Интернетом вещей. Слабенькие 8-битные микропроцессоры являлись «сердцем» многих классических игровых приставок. Типичный 8-битный процессор не имеет аппаратной поддержки умножения. Как же выкручиваются программисты в этой ситуации?\n",
    "\n",
    "Представим, что в Питоне тоже отсутствует операция умножения. Ее можно заменить сложением. Если мы хотим умножить какое-то число x на 12, то нам понадобится 11 сложений, правильно? Это довольно много, но, оказывается, можно обойтись и меньшим числом сложений.\n",
    "\n",
    "Из арифметических операций разрешается использовать только явно указанные и в указанном количестве. Входным аргументом является переменная x. Унарный минус использовать нельзя. Тело программы должно состоять из линейной последовательности присваиваний. Оформите линейный код решения в виде функции."
   ],
   "metadata": {
    "collapsed": false
   },
   "id": "686f13f816d84535"
  },
  {
   "cell_type": "markdown",
   "source": [
    "**3.1.** (уровень сложности: низкий)\n",
    "\n",
    "Умножение на 12. Используйте 4 сложения."
   ],
   "metadata": {
    "collapsed": false
   },
   "id": "dedf457f3ae8e258"
  },
  {
   "cell_type": "markdown",
   "source": [
    "**Решение:**"
   ],
   "metadata": {
    "collapsed": false
   },
   "id": "1fee50687fbe3287"
  },
  {
   "cell_type": "code",
   "outputs": [
    {
     "data": {
      "text/plain": "24"
     },
     "execution_count": 5,
     "metadata": {},
     "output_type": "execute_result"
    }
   ],
   "source": [
    "def mult12(num):\n",
    "    num2 = num + num\n",
    "    num4 = num2 + num2\n",
    "    num8 = num4 + num4\n",
    "    return num8 + num4\n",
    "\n",
    "\n",
    "for i in range(1000):\n",
    "    assert mult12(i) == i * 12\n",
    "    \n",
    "mult12(2)"
   ],
   "metadata": {
    "collapsed": false,
    "ExecuteTime": {
     "end_time": "2024-02-25T08:59:57.837977Z",
     "start_time": "2024-02-25T08:59:57.736914800Z"
    }
   },
   "id": "84c6ee40723d662d",
   "execution_count": 5
  },
  {
   "cell_type": "markdown",
   "source": [
    "**3.2.** (уровень сложности: низкий)\n",
    "\n",
    "Умножение на 16. Используйте 4 сложения."
   ],
   "metadata": {
    "collapsed": false
   },
   "id": "5da1367ba4a04fe2"
  },
  {
   "cell_type": "markdown",
   "source": [
    "**Решение:**"
   ],
   "metadata": {
    "collapsed": false
   },
   "id": "5d68c8158a0cd5f8"
  },
  {
   "cell_type": "code",
   "outputs": [
    {
     "data": {
      "text/plain": "32"
     },
     "execution_count": 6,
     "metadata": {},
     "output_type": "execute_result"
    }
   ],
   "source": [
    "def mult16(num):\n",
    "    num2 = num + num\n",
    "    num4 = num2 + num2\n",
    "    num8 = num4 + num4\n",
    "    return num8 + num8\n",
    "\n",
    "\n",
    "for i in range(1000):\n",
    "    assert mult16(i) == i * 16\n",
    "    \n",
    "mult16(2)"
   ],
   "metadata": {
    "collapsed": false,
    "ExecuteTime": {
     "end_time": "2024-02-25T09:01:21.624201500Z",
     "start_time": "2024-02-25T09:01:21.489416600Z"
    }
   },
   "id": "4b1334646c9985d7",
   "execution_count": 6
  },
  {
   "cell_type": "markdown",
   "source": [
    "**3.3.** (уровень сложности: средний)\n",
    "\n",
    "Умножение на 15. Используйте 3 сложения и 2 вычитания."
   ],
   "metadata": {
    "collapsed": false
   },
   "id": "7102ab321f1761ee"
  },
  {
   "cell_type": "markdown",
   "source": [
    "**Решение:**"
   ],
   "metadata": {
    "collapsed": false
   },
   "id": "c7bcb7824040e13d"
  },
  {
   "cell_type": "code",
   "outputs": [
    {
     "data": {
      "text/plain": "30"
     },
     "execution_count": 7,
     "metadata": {},
     "output_type": "execute_result"
    }
   ],
   "source": [
    "def mult15(num):\n",
    "    num2 = num + num\n",
    "    num4 = num2 + num2\n",
    "    num8 = num4 + num4\n",
    "    return num8 - (num - num8)\n",
    "\n",
    "\n",
    "for i in range(1000):\n",
    "    assert mult15(i) == i * 15\n",
    "    \n",
    "mult15(2)"
   ],
   "metadata": {
    "collapsed": false,
    "ExecuteTime": {
     "end_time": "2024-02-25T09:04:02.267822700Z",
     "start_time": "2024-02-25T09:04:02.200499800Z"
    }
   },
   "id": "8652b03cf74e2f68",
   "execution_count": 7
  },
  {
   "cell_type": "markdown",
   "source": [
    "**3.4.** (уровень сложности: низкий)\n",
    "\n",
    "Некто попытался реализовать «наивную» функцию умножения с помощью сложений. К сожалению, в коде много ошибок. Сможете ли вы их исправить?\n",
    "\n",
    "Добавьте к naive_mul автоматическое тестирование на случайных данных. Сравнивайте с встроенным умножением, используя конструкцию assert."
   ],
   "metadata": {
    "collapsed": false
   },
   "id": "443538548fdfbf74"
  },
  {
   "cell_type": "code",
   "outputs": [],
   "source": [
    "def naive_mul(x, y):\n",
    "   r = 1;\n",
    "    for i in range(0, y - 1)\n",
    "    x = x + r;\n",
    "    end"
   ],
   "metadata": {
    "collapsed": false
   },
   "id": "7981bf1aee410ccd",
   "execution_count": null
  },
  {
   "cell_type": "markdown",
   "source": [
    "**Решение:**"
   ],
   "metadata": {
    "collapsed": false
   },
   "id": "4937097958d8b9e9"
  },
  {
   "cell_type": "code",
   "outputs": [
    {
     "data": {
      "text/plain": "6"
     },
     "execution_count": 15,
     "metadata": {},
     "output_type": "execute_result"
    }
   ],
   "source": [
    "def naive_mul(x, y):\n",
    "    r = 0\n",
    "    for _ in range(y):\n",
    "        r += x\n",
    "    return r\n",
    "\n",
    "from random import randint\n",
    "\n",
    "for i in range(1000):\n",
    "    x = randint(0, 1000)\n",
    "    y = randint(0, 1000)\n",
    "    assert naive_mul(x, y) == x * y\n",
    "    \n",
    "naive_mul(2, 3)"
   ],
   "metadata": {
    "collapsed": false,
    "ExecuteTime": {
     "end_time": "2024-02-25T09:12:28.757866100Z",
     "start_time": "2024-02-25T09:12:28.521101700Z"
    }
   },
   "id": "6e3f79df81bf6436",
   "execution_count": 15
  },
  {
   "cell_type": "markdown",
   "source": [
    "## 6. Алгоритмическая игра DandyBot\n",
    "\n",
    "(уровень сложности: низкий)"
   ],
   "metadata": {
    "collapsed": false
   },
   "id": "379855a8042e9560"
  },
  {
   "cell_type": "markdown",
   "source": [
    "Скачайте [DandyBot](https://github.com/true-grue/DandyBot). Код для своего игрока записывается в файле user_bot.py. Игра запускается с помощью main.py.\n",
    "\n",
    "Вот простой пример содержимого user_bot.py:\n",
    "\n",
    "```Python\n",
    "def script(check, x, y):\n",
    "    return 'right'\n",
    "```\n",
    "\n",
    "Игровая логика записывается исключительно в теле функции script. В нашем случае игрок будет постоянно двигаться вправо.\n",
    "\n",
    "Полный список действий, которые можно возвращать из функции script, задающей «интеллект» игрока:\n",
    "\n",
    "* 'up'. Двигаться вверх на клетку.\n",
    "* 'down'. Двигаться вниз на клетку.\n",
    "* 'left'. Двигаться влево на клетку.\n",
    "* 'right'. Двигаться вправо на клетку.\n",
    "* 'pass'. Ничего не делать.\n",
    "* 'take'. Взять золото.\n",
    "\n",
    "Для изучения среды есть функция check:\n",
    "\n",
    "* check('player', x, y). True, если какой-то игрок в позиции (x, y).\n",
    "* check('gold', x , y). Если золото в позиции (x, y), то вернуть его количество, иначе вернуть 0.\n",
    "* check('wall', x, y). True, если стена в позиции (x, y).\n",
    "* check('level'). Вернуть номер текущего уровня.\n",
    "\n",
    "Ваша задача — пройти все уровни. Дополнительно устанавливаемыми библиотеками и глобальными данными пользоваться нельзя.\n",
    "\n",
    "Если игра Вам показалась слишком простой, то попробуйте ее улучшить: упростите код, добавьте новые функции, уровни."
   ],
   "metadata": {
    "collapsed": false
   },
   "id": "c5580760460eefe1"
  },
  {
   "cell_type": "markdown",
   "source": [
    "**Решение:**"
   ],
   "metadata": {
    "collapsed": false
   },
   "id": "a7cdf1e8f3ec7597"
  },
  {
   "cell_type": "markdown",
   "source": [
    "*Адаптивный алгоритм:*"
   ],
   "metadata": {
    "collapsed": false
   },
   "id": "9f7f68b76dfbc532"
  },
  {
   "cell_type": "code",
   "outputs": [],
   "source": [
    "from random import randint\n",
    "\n",
    "\n",
    "def script(check, x, y):\n",
    "    if check(\"gold\", x, y) != 0:\n",
    "        print(f'take gold at {x} {y}')\n",
    "        return \"take\"\n",
    "\n",
    "    match check(\"level\"):\n",
    "        case 3:\n",
    "            if check(\"gold\", 14, 13):\n",
    "                pass\n",
    "            elif check(\"gold\", 8, 23):\n",
    "                if y < 17:\n",
    "                    return \"down\"\n",
    "                if x > 10:\n",
    "                    return \"left\"\n",
    "            elif check(\"gold\", 26, 16):\n",
    "                if y > 16:\n",
    "                    return \"up\"\n",
    "                if x < 20:\n",
    "                    return \"right\"\n",
    "            elif check(\"gold\", 19, 23):\n",
    "                if y < 20:\n",
    "                    return \"down\"\n",
    "\n",
    "            elif check(\"gold\", 26, 1):\n",
    "                if y > 3:\n",
    "                    return \"up\"\n",
    "        case 4:\n",
    "            if check(\"gold\", 8, 16):\n",
    "                if x < 5 and y < 10:\n",
    "                    return \"right\"\n",
    "                if y < 17:\n",
    "                    return \"down\"\n",
    "            elif check(\"gold\", 1, 23):\n",
    "                if x > 2:\n",
    "                    return \"left\"\n",
    "            elif check(\"gold\", 8, 23):\n",
    "                pass\n",
    "            elif check(\"gold\", 19, 16):\n",
    "                if y > 19 and x < 18:\n",
    "                    return \"up\"\n",
    "                if x < 19:\n",
    "                    return \"right\"\n",
    "                if not check(\"wall\", x, y - 1):\n",
    "                    return \"up\"\n",
    "            elif check(\"gold\", 26, 16):\n",
    "                if not check(\"wall\", x + 1, y):\n",
    "                    return \"right\"\n",
    "            elif check(\"gold\", 26, 23):\n",
    "                if not check(\"wall\", x, y + 1):\n",
    "                    return \"down\"\n",
    "            elif check(\"gold\", 19, 23):\n",
    "                pass\n",
    "            elif check(\"gold\", 19, 8):\n",
    "                if x < 22 and y > 10:\n",
    "                    return \"right\"\n",
    "                if y > 7:\n",
    "                    return \"up\"\n",
    "                if not check(\"wall\", x - 1, y):\n",
    "                    return \"left\"\n",
    "            elif check(\"gold\", 19, 1):\n",
    "                if not check(\"wall\", x, y - 1):\n",
    "                    return \"up\"\n",
    "            elif check(\"gold\", 26, 1):\n",
    "                if not check(\"wall\", x + 1, y):\n",
    "                    return \"right\"\n",
    "            elif check(\"gold\", 26, 8):\n",
    "                pass\n",
    "            else:\n",
    "                if x > 22 and y < 10:\n",
    "                    return \"left\"\n",
    "                if y < 12 and x > 20:\n",
    "                    return \"down\"\n",
    "        case _:\n",
    "            pass\n",
    "\n",
    "    return go_to_gold(check, x, y)\n",
    "\n",
    "\n",
    "def go_to_gold(check, x, y):\n",
    "    x_gold, y_gold = find_gold(check, x, y)\n",
    "    return way_to_gold(check, x, y, x_gold, y_gold)\n",
    "\n",
    "\n",
    "def find_gold(check, x, y, distance=0):\n",
    "    for i in range(x - distance, x + distance + 1):\n",
    "        for j in range(y - distance, y + distance + 1):\n",
    "            if check(\"gold\", i, j) != 0:\n",
    "                return i, j\n",
    "    if distance > 100:\n",
    "        return find_gold(check, x, y)\n",
    "    return find_gold(check, x, y, distance + 1)\n",
    "\n",
    "\n",
    "def way_to_gold(check, x, y, x_gold, y_gold):\n",
    "    if x_gold > x and not check(\"wall\", x + 1, y):\n",
    "        return \"right\"\n",
    "    if x_gold < x and not check(\"wall\", x - 1, y):\n",
    "        return \"left\"\n",
    "    if y_gold > y and not check(\"wall\", x, y + 1):\n",
    "        return \"down\"\n",
    "    if y_gold < y and not check(\"wall\", x, y - 1):\n",
    "        return \"up\"\n",
    "    return [\"right\", \"left\", \"down\", \"up\"][randint(0, 3)]\n"
   ],
   "metadata": {
    "collapsed": false,
    "ExecuteTime": {
     "end_time": "2024-02-25T09:28:02.219400600Z",
     "start_time": "2024-02-25T09:28:02.142797800Z"
    }
   },
   "id": "d2175b2e36345d5e",
   "execution_count": 19
  },
  {
   "cell_type": "markdown",
   "source": [
    "*Универсальный алгоритм:*"
   ],
   "metadata": {
    "collapsed": false
   },
   "id": "6991ffebc9aace4"
  },
  {
   "cell_type": "code",
   "outputs": [],
   "source": [
    "from collections import deque\n",
    "\n",
    "\n",
    "def script(check, x, y):\n",
    "    if check(\"gold\", x, y) != 0:\n",
    "        return \"take\"\n",
    "    return get_direction(check, x, y)\n",
    "\n",
    "\n",
    "def get_direction(check, x, y):\n",
    "    visited = set()\n",
    "    queue = get_base_queue(x, y)\n",
    "\n",
    "    while True:\n",
    "        direction, (x, y) = queue.popleft()\n",
    "\n",
    "        if check(\"gold\", x, y):\n",
    "            return direction\n",
    "        if (x, y) in visited or check(\"wall\", x, y):\n",
    "            continue\n",
    "\n",
    "        add_to_queue(queue, x, y, direction)\n",
    "        visited.add((x, y))\n",
    "\n",
    "\n",
    "def get_base_queue(x, y):\n",
    "    queue = deque()\n",
    "\n",
    "    directions = get_base_directions()\n",
    "    neighbours = get_neighbours(x, y)\n",
    "    for i in range(4):\n",
    "        queue.append((directions[i], neighbours[i]))\n",
    "\n",
    "    return queue\n",
    "\n",
    "\n",
    "def add_to_queue(queue, x, y, direction):\n",
    "    for neighbour in get_neighbours(x, y):\n",
    "        queue.append((direction, neighbour))\n",
    "\n",
    "\n",
    "def get_neighbours(x, y):\n",
    "    return [(x - 1, y), (x + 1, y), (x, y - 1), (x, y + 1)]\n",
    "\n",
    "\n",
    "def get_base_directions():\n",
    "    return [\"left\", \"right\", \"up\", \"down\"]\n"
   ],
   "metadata": {
    "collapsed": false,
    "ExecuteTime": {
     "end_time": "2024-02-25T09:28:05.860194900Z",
     "start_time": "2024-02-25T09:28:05.734800100Z"
    }
   },
   "id": "aadea41a00721ca0",
   "execution_count": 20
  }
 ],
 "metadata": {
  "kernelspec": {
   "display_name": "Python 3 (ipykernel)",
   "language": "python",
   "name": "python3"
  },
  "language_info": {
   "codemirror_mode": {
    "name": "ipython",
    "version": 3
   },
   "file_extension": ".py",
   "mimetype": "text/x-python",
   "name": "python",
   "nbconvert_exporter": "python",
   "pygments_lexer": "ipython3",
   "version": "3.12.0"
  }
 },
 "nbformat": 4,
 "nbformat_minor": 5
}
