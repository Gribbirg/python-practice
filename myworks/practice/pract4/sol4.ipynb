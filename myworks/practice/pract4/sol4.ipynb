{
 "cells": [
  {
   "cell_type": "markdown",
   "source": [
    "# Практическое занятие №4\n",
    "\n",
    "Выполнил: *Грибков А.С.*\n",
    "\n",
    "Группа: *ИКБО-16-22*"
   ],
   "metadata": {
    "collapsed": false
   },
   "id": "21c98be1153951c5"
  },
  {
   "cell_type": "markdown",
   "source": [
    "## 1. Некоторые операции с классами и объектами"
   ],
   "metadata": {
    "collapsed": false
   },
   "id": "a938a1f86a6c63c3"
  },
  {
   "cell_type": "markdown",
   "source": [
    "**1.1.** (уровень сложности: простейший)\n",
    "\n",
    "Напишите код, который выведет на экране все имена полей объекта произвольного пользовательского класса, кроме служебных имен."
   ],
   "metadata": {
    "collapsed": false
   },
   "id": "1d287f64701d1b81"
  },
  {
   "cell_type": "markdown",
   "source": [
    "**Решение:**"
   ],
   "metadata": {
    "collapsed": false
   },
   "id": "93b418306a80d915"
  },
  {
   "cell_type": "code",
   "source": [
    "class Test:\n",
    "    def __init__(self, field1, field2):\n",
    "        self.field1 = field1\n",
    "        self.field2 = field2\n",
    "\n",
    "    def fun(self):\n",
    "        print(self.field1, self.field2)\n",
    "\n",
    "\n",
    "test_object = Test(\"1\", \"2\")"
   ],
   "metadata": {
    "collapsed": false,
    "ExecuteTime": {
     "end_time": "2024-03-22T14:20:27.573593Z",
     "start_time": "2024-03-22T14:20:27.569418Z"
    }
   },
   "id": "d08efddc523b448b",
   "execution_count": 59,
   "outputs": []
  },
  {
   "cell_type": "code",
   "source": [
    "list(filter(lambda s: len(s) < 2 or s[:2] != \"__\", dir(test_object)))"
   ],
   "metadata": {
    "collapsed": false,
    "ExecuteTime": {
     "end_time": "2024-03-22T14:20:27.663866Z",
     "start_time": "2024-03-22T14:20:27.659599Z"
    }
   },
   "id": "b55a25605f56198",
   "execution_count": 60,
   "outputs": []
  },
  {
   "cell_type": "markdown",
   "source": [
    "**1.2.** (уровень сложности: простейший)\n",
    "\n",
    "Напишите код, который по имени метода, заданному строкой, вызовет этот метод в объекте некоторого пользовательского класса."
   ],
   "metadata": {
    "collapsed": false
   },
   "id": "6804d8a495a6fa1c"
  },
  {
   "cell_type": "markdown",
   "source": [
    "**Решение:**"
   ],
   "metadata": {
    "collapsed": false
   },
   "id": "2ba5a09896be1283"
  },
  {
   "cell_type": "code",
   "source": [
    "getattr(test_object, \"fun\")()"
   ],
   "metadata": {
    "collapsed": false,
    "ExecuteTime": {
     "end_time": "2024-03-22T14:20:27.684609Z",
     "start_time": "2024-03-22T14:20:27.680891Z"
    }
   },
   "id": "b62701307b0f92d6",
   "execution_count": 61,
   "outputs": []
  },
  {
   "cell_type": "markdown",
   "source": [
    "**1.3.** (уровень сложности: простейший)\n",
    "\n",
    "С кодом ниже что-то не так. Что именно неправильно и как это исправить?\n",
    "\n",
    "```Python\n",
    "class A:\n",
    "    pass\n",
    "\n",
    "class B(A):\n",
    "    pass\n",
    "\n",
    "class C(A, B):\n",
    "    pass\n",
    "```"
   ],
   "metadata": {
    "collapsed": false
   },
   "id": "6ae88064a46dc7be"
  },
  {
   "cell_type": "markdown",
   "source": [
    "**Решение:**\n",
    "\n",
    "Ломается, т.к. несколько раз ```C``` наследуется от ```A``` (напрямую и через ```B```):"
   ],
   "metadata": {
    "collapsed": false
   },
   "id": "e30bc8e219904f19"
  },
  {
   "cell_type": "code",
   "source": [
    "class A:\n",
    "    pass\n",
    "\n",
    "\n",
    "class B(A):\n",
    "    pass\n",
    "\n",
    "\n",
    "class C(A, B):\n",
    "    pass"
   ],
   "metadata": {
    "collapsed": false,
    "ExecuteTime": {
     "end_time": "2024-03-22T14:20:27.720595Z",
     "start_time": "2024-03-22T14:20:27.709614Z"
    }
   },
   "id": "2eebae08258f1187",
   "execution_count": 62,
   "outputs": []
  },
  {
   "cell_type": "markdown",
   "source": [
    "Для исправления необходимо убрать наследование ```C``` от ```A```. При этом, потерь не будет, т.к. все методы и поля ```A``` и так передаются в ```C``` через ```B```."
   ],
   "metadata": {
    "collapsed": false
   },
   "id": "97d986d4c5e9216a"
  },
  {
   "cell_type": "code",
   "source": [
    "class A:\n",
    "    pass\n",
    "\n",
    "\n",
    "class B(A):\n",
    "    pass\n",
    "\n",
    "\n",
    "class C(B):\n",
    "    pass"
   ],
   "metadata": {
    "collapsed": false,
    "ExecuteTime": {
     "end_time": "2024-03-22T14:20:27.732314Z",
     "start_time": "2024-03-22T14:20:27.728601Z"
    }
   },
   "id": "293a9e2ff177a9d3",
   "execution_count": 63,
   "outputs": []
  },
  {
   "cell_type": "markdown",
   "source": [
    "**1.4.** (уровень сложности: низкий)\n",
    "\n",
    "Напишите функцию-однострочник get_inheritance для вывода строки, отражающей иерархию наследования для входного класса.\n",
    "\n",
    "Пример:\n",
    "\n",
    "```Python\n",
    ">>> print(get_inheritance(OSError))\n",
    "OSError -> Exception -> BaseException -> object\n",
    "```"
   ],
   "metadata": {
    "collapsed": false
   },
   "id": "edcfa74853f533e4"
  },
  {
   "cell_type": "markdown",
   "source": [
    "**Решение:**"
   ],
   "metadata": {
    "collapsed": false
   },
   "id": "b685fea072f5fb0f"
  },
  {
   "cell_type": "code",
   "source": [
    "\" -> \".join(map(lambda x: x.__name__, OSError.__mro__))"
   ],
   "metadata": {
    "collapsed": false,
    "ExecuteTime": {
     "end_time": "2024-03-22T14:20:27.764721Z",
     "start_time": "2024-03-22T14:20:27.760319Z"
    }
   },
   "id": "999f47e1a5f11ab7",
   "execution_count": 64,
   "outputs": []
  },
  {
   "cell_type": "markdown",
   "source": [
    "## 2. Своя реализация структуры данных"
   ],
   "metadata": {
    "collapsed": false
   },
   "id": "f6e794cf547b0f1e"
  },
  {
   "cell_type": "markdown",
   "source": [
    "Реализуйте хэш-таблицу, аналог встроенного dict. Используйте для внутренней реализации список пар ключ-значение. Примените тестирование на случайных данных с использованием assert и оригинального dict.\n",
    "\n",
    "**2.1.** (уровень сложности: средний)\n",
    "\n",
    "Реализуйте методы чтения, записи и получения размера хэш-таблицы.\n",
    "\n",
    "**2.2.** (уровень сложности: низкий)\n",
    "\n",
    "Реализуйте для методов своей хэш-таблицы тот же интерфейс, что и в dict, включая перегрузку операций.\n",
    "\n",
    "**2.3.** (уровень сложности: средний)\n",
    "\n",
    "Реализуйте поддержку итератора для цикла for. Обязательно протестируйте код на примерах с вложенными циклами!"
   ],
   "metadata": {
    "collapsed": false
   },
   "id": "3cfe5d2ba3fb5be"
  },
  {
   "cell_type": "markdown",
   "source": [
    "**Решение:**"
   ],
   "metadata": {
    "collapsed": false
   },
   "id": "9409843e4c76cbd9"
  },
  {
   "cell_type": "code",
   "source": [
    "class HashTable:\n",
    "    class Node:\n",
    "        def __init__(self, key, value):\n",
    "            self.key = key\n",
    "            self.value = value\n",
    "            self.deleted = False\n",
    "\n",
    "    def __init__(self, init_capacity=50):\n",
    "        self.size = init_capacity\n",
    "        self.busy = 0\n",
    "        self.items = [None] * init_capacity\n",
    "        self.i = None\n",
    "        self.i_stack = []\n",
    "\n",
    "    def hash(self, key):\n",
    "        return hash(key) % self.size\n",
    "\n",
    "    def __setitem__(self, key, value):\n",
    "        node = self.Node(key, value)\n",
    "        node_hash = self.hash(key)\n",
    "\n",
    "        while self.items[node_hash] is not None:\n",
    "            node_hash = (node_hash + 1) % self.size\n",
    "\n",
    "        self.items[node_hash] = node\n",
    "        self.busy += 1\n",
    "\n",
    "        if self.size * 0.75 < self.busy:\n",
    "            self.update()\n",
    "\n",
    "    def __getitem__(self, key):\n",
    "        node_hash = self.hash(key)\n",
    "\n",
    "        while self.items[node_hash] is not None:\n",
    "\n",
    "            if self.items[node_hash].key == key:\n",
    "                return self.items[node_hash]\n",
    "\n",
    "            node_hash = (node_hash + 1) % self.size\n",
    "\n",
    "        return None\n",
    "\n",
    "    def update(self):\n",
    "        self.size = self.busy * 2\n",
    "        self.busy = 0\n",
    "        save_items = self.items\n",
    "        self.items = [None] * self.size\n",
    "\n",
    "        for node in save_items:\n",
    "            if node is not None:\n",
    "                self[node.key] = node.value\n",
    "\n",
    "    def __len__(self):\n",
    "        return self.size\n",
    "\n",
    "    def __iter__(self):\n",
    "        if i is not None:\n",
    "            self.i_stack.append(self.i)\n",
    "\n",
    "        self.i = 0\n",
    "        return self\n",
    "\n",
    "    def __next__(self):\n",
    "        self.i += 1\n",
    "        while self.i < self.size:\n",
    "            if self.items[self.i] is not None:\n",
    "                return self.items[self.i].key, self.items[self.i].value\n",
    "            self.i += 1\n",
    "\n",
    "        if len(self.i_stack) != 0:\n",
    "            self.i = self.i_stack.pop()\n",
    "        raise StopIteration()\n"
   ],
   "metadata": {
    "collapsed": false,
    "ExecuteTime": {
     "end_time": "2024-03-22T14:20:27.887234Z",
     "start_time": "2024-03-22T14:20:27.881727Z"
    }
   },
   "id": "1d015466c8867dac",
   "execution_count": 65,
   "outputs": []
  },
  {
   "cell_type": "code",
   "source": [
    "from random import randint\n",
    "\n",
    "table = HashTable()\n",
    "for i in range(2, 10):\n",
    "    table[randint(1, i)] = randint(1, i)\n",
    "\n",
    "for key, val in table:\n",
    "    for key1, val1 in table:\n",
    "        print(key, val, key1, val1)"
   ],
   "metadata": {
    "collapsed": false,
    "ExecuteTime": {
     "end_time": "2024-03-22T14:20:27.903639Z",
     "start_time": "2024-03-22T14:20:27.898240Z"
    }
   },
   "id": "d3748feb4c3808aa",
   "execution_count": 66,
   "outputs": []
  },
  {
   "cell_type": "markdown",
   "source": [
    "## 3. Деревья выражений\n",
    "\n",
    "Требуется реализовать операции для печати, вычисления арифметических выражений и компиляции выражений в код стековой машины."
   ],
   "metadata": {
    "collapsed": false
   },
   "id": "ca5c2ff90629842d"
  },
  {
   "cell_type": "markdown",
   "source": [
    "**3.1.** (уровень сложности: низкий)\n",
    "\n",
    "Реализовать классы узлов дерева: Num, Add и Mul. Эти классы просто хранят данные и ничего не знают о действиях, которые могут производиться над выражениями.\n",
    "\n",
    "Пример, который будет использоваться далее:\n",
    "\n",
    "```Python\n",
    "ast = Add(Num(7), Mul(Num(3), Num(2)))\n",
    "```"
   ],
   "metadata": {
    "collapsed": false
   },
   "id": "40720b8ea2dca1cd"
  },
  {
   "cell_type": "markdown",
   "source": [
    "**Решение:**"
   ],
   "metadata": {
    "collapsed": false
   },
   "id": "8241cc84941fc19b"
  },
  {
   "cell_type": "code",
   "source": [
    "class Operation:\n",
    "    def calc(self):\n",
    "        pass\n",
    "\n",
    "    def get(self) -> str:\n",
    "        pass\n",
    "\n",
    "    def stack(self) -> str:\n",
    "        pass\n",
    "\n",
    "\n",
    "class Num(Operation):\n",
    "    def __init__(self, value):\n",
    "        self.value = value\n",
    "\n",
    "    def calc(self):\n",
    "        return self.value\n",
    "\n",
    "    def get(self):\n",
    "        return str(self.value)\n",
    "\n",
    "    def stack(self):\n",
    "        return \"PUSH \" + str(self.value)\n",
    "\n",
    "\n",
    "class Add(Operation):\n",
    "    def __init__(self, num1: Operation, num2: Operation):\n",
    "        self.num1 = num1\n",
    "        self.num2 = num2\n",
    "\n",
    "    def calc(self):\n",
    "        return self.num1.calc() + self.num2.calc()\n",
    "\n",
    "    def get(self) -> str:\n",
    "        return f\"({self.num1.get()} + {self.num2.get()})\"\n",
    "\n",
    "    def stack(self) -> str:\n",
    "        return f\"{self.num1.stack()}\\n{self.num2.stack()}\\nADD\"\n",
    "\n",
    "\n",
    "class Mul(Operation):\n",
    "    def __init__(self, num1: Operation, num2: Operation):\n",
    "        self.num1 = num1\n",
    "        self.num2 = num2\n",
    "\n",
    "    def calc(self):\n",
    "        return self.num1.calc() * self.num2.calc()\n",
    "\n",
    "    def get(self) -> str:\n",
    "        return f\"({self.num1.get()} * {self.num2.get()})\"\n",
    "\n",
    "    def stack(self) -> str:\n",
    "        return f\"{self.num1.stack()}\\n{self.num2.stack()}\\nMUL\""
   ],
   "metadata": {
    "collapsed": false,
    "ExecuteTime": {
     "end_time": "2024-03-22T14:20:27.924390Z",
     "start_time": "2024-03-22T14:20:27.919644Z"
    }
   },
   "id": "f008c4c4f333024b",
   "execution_count": 67,
   "outputs": []
  },
  {
   "cell_type": "code",
   "source": [
    "ast = Add(Num(7), Mul(Num(3), Num(2)))"
   ],
   "metadata": {
    "collapsed": false,
    "ExecuteTime": {
     "end_time": "2024-03-22T14:20:27.953061Z",
     "start_time": "2024-03-22T14:20:27.949395Z"
    }
   },
   "id": "6a2f0ed5d451c9da",
   "execution_count": 68,
   "outputs": []
  },
  {
   "cell_type": "markdown",
   "source": [
    "**3.2.** (уровень сложности: средний)\n",
    "\n",
    "Реализовать класс-посетитель PrintVisitor для печати выражения. Обойтись без перегрузки repr и str, а также без операторов ветвления!\n",
    "\n",
    "Пример:\n",
    "\n",
    "```Python\n",
    ">>> pv = PrintVisitor()\n",
    ">>> print(pv.visit(ast))\n",
    "(7 + (3 * 2))\n",
    "```"
   ],
   "metadata": {
    "collapsed": false
   },
   "id": "8ab0aa910d488815"
  },
  {
   "cell_type": "markdown",
   "source": [
    "**Решение:**"
   ],
   "metadata": {
    "collapsed": false
   },
   "id": "5eb09d456dee4024"
  },
  {
   "cell_type": "code",
   "source": [
    "class PrintVisitor:\n",
    "    def visit(self, expression: Operation):\n",
    "        return expression.get()"
   ],
   "metadata": {
    "collapsed": false,
    "ExecuteTime": {
     "end_time": "2024-03-22T14:20:27.972670Z",
     "start_time": "2024-03-22T14:20:27.970067Z"
    }
   },
   "id": "5c06b8a3041b26cd",
   "execution_count": 69,
   "outputs": []
  },
  {
   "cell_type": "code",
   "source": [
    "pv = PrintVisitor()\n",
    "print(pv.visit(ast))"
   ],
   "metadata": {
    "collapsed": false,
    "ExecuteTime": {
     "end_time": "2024-03-22T14:20:28.021139Z",
     "start_time": "2024-03-22T14:20:28.017677Z"
    }
   },
   "id": "adb5ba1476b68ccc",
   "execution_count": 70,
   "outputs": []
  },
  {
   "cell_type": "markdown",
   "source": [
    "**3.3.** (уровень сложности: средний)\n",
    "\n",
    "Реализовать класс-посетитель CalcVisitor для вычисления выражения. Обойтись без eval с exec, а также без операторов ветвления!\n",
    "\n",
    "Пример:\n",
    "\n",
    "```Python\n",
    ">>> cv = CalcVisitor()\n",
    ">>> print(cv.visit(ast))\n",
    "13\n",
    "```"
   ],
   "metadata": {
    "collapsed": false
   },
   "id": "cd4f855f14fdf243"
  },
  {
   "cell_type": "markdown",
   "source": [
    "**Решение:**"
   ],
   "metadata": {
    "collapsed": false
   },
   "id": "db6cc22ad0bfbc76"
  },
  {
   "cell_type": "code",
   "source": [
    "class CalcVisitor:\n",
    "    def visit(self, expression: Operation):\n",
    "        return expression.calc()"
   ],
   "metadata": {
    "collapsed": false,
    "ExecuteTime": {
     "end_time": "2024-03-22T14:20:28.045980Z",
     "start_time": "2024-03-22T14:20:28.042145Z"
    }
   },
   "id": "ef6728a7bc27f82b",
   "execution_count": 71,
   "outputs": []
  },
  {
   "cell_type": "code",
   "source": [
    "cv = CalcVisitor()\n",
    "print(cv.visit(ast))"
   ],
   "metadata": {
    "collapsed": false,
    "ExecuteTime": {
     "end_time": "2024-03-22T14:20:28.076174Z",
     "start_time": "2024-03-22T14:20:28.072986Z"
    }
   },
   "id": "60793122860bc9f5",
   "execution_count": 72,
   "outputs": []
  },
  {
   "cell_type": "markdown",
   "source": [
    "**3.4.** (уровень сложности: средний)\n",
    "\n",
    "Реализовать класс-посетитель StackVisitor для порождения кода стековой машины по выражению. Обойтись без операторов ветвления.\n",
    "\n",
    "Пример:\n",
    "\n",
    "```Python\n",
    ">>> sv = StackVisitor()\n",
    ">>> print(sv.visit(ast))\n",
    "PUSH 7\n",
    "PUSH 3\n",
    "PUSH 2\n",
    "MUL\n",
    "ADD\n",
    "```"
   ],
   "metadata": {
    "collapsed": false
   },
   "id": "5ee0a17963902a99"
  },
  {
   "cell_type": "markdown",
   "source": [
    "**Решение:**"
   ],
   "metadata": {
    "collapsed": false
   },
   "id": "47bab15de2d0d459"
  },
  {
   "cell_type": "code",
   "source": [
    "class StackVisitor:\n",
    "    def visit(self, expression: Operation):\n",
    "        return expression.stack()"
   ],
   "metadata": {
    "collapsed": false,
    "ExecuteTime": {
     "end_time": "2024-03-22T14:20:28.082696Z",
     "start_time": "2024-03-22T14:20:28.079179Z"
    }
   },
   "id": "f3a7d9ad6d0509b1",
   "execution_count": 73,
   "outputs": []
  },
  {
   "cell_type": "code",
   "source": [
    "sv = StackVisitor()\n",
    "print(sv.visit(ast))"
   ],
   "metadata": {
    "collapsed": false,
    "ExecuteTime": {
     "end_time": "2024-03-22T14:20:28.096842Z",
     "start_time": "2024-03-22T14:20:28.093699Z"
    }
   },
   "id": "2bc8b86dcbe8c82a",
   "execution_count": 74,
   "outputs": []
  },
  {
   "cell_type": "markdown",
   "source": [
    "## 4. Предметно-ориентированный язык HTML-тегов"
   ],
   "metadata": {
    "collapsed": false
   },
   "id": "dd56b1e58732429b"
  },
  {
   "cell_type": "markdown",
   "source": [
    "**4.1.** (уровень сложности: средний)\n",
    "\n",
    "Реализовать язык HTML-тегов с помощью менеджера контекста.\n",
    "\n",
    "Реализовать классы для выполнения следующего примера:\n",
    "\n",
    "```Python\n",
    "html = HTML()\n",
    "with html.body():\n",
    "    with html.div():\n",
    "        with html.div():\n",
    "            html.p('Первая строка.')\n",
    "            html.p('Вторая строка.')\n",
    "        with html.div():\n",
    "            html.p('Третья строка.')\n",
    "```\n",
    "\n",
    "С помощью html.get_code() выдается следующий результат:\n",
    "\n",
    "```HTML\n",
    "<body>\n",
    "<div>\n",
    "<div>\n",
    "<p>Первая строка.</p>\n",
    "<p>Вторая строка.</p>\n",
    "</div>\n",
    "<div>\n",
    "<p>Третья строка.</p>\n",
    "</div>\n",
    "</div>\n",
    "</body>\n",
    "```"
   ],
   "metadata": {
    "collapsed": false
   },
   "id": "28782098e4f7255f"
  },
  {
   "cell_type": "markdown",
   "source": [
    "**Решение:**"
   ],
   "metadata": {
    "collapsed": false
   },
   "id": "b71e5a874bc90664"
  },
  {
   "cell_type": "code",
   "source": [
    "from contextlib import contextmanager\n",
    "\n",
    "\n",
    "class HTML:\n",
    "    def __init__(self):\n",
    "        self.code = ''\n",
    "\n",
    "    @contextmanager\n",
    "    def body(self):\n",
    "        self.code += '<body>\\n'\n",
    "        yield\n",
    "        self.code += '</body>\\n'\n",
    "\n",
    "    @contextmanager\n",
    "    def div(self):\n",
    "        self.code += '<div>\\n'\n",
    "        yield\n",
    "        self.code += '</div>\\n'\n",
    "\n",
    "    def p(self, text):\n",
    "        self.code += f'<p>{text}</p>\\n'\n",
    "\n",
    "    def get_code(self):\n",
    "        return self.code"
   ],
   "metadata": {
    "collapsed": false,
    "ExecuteTime": {
     "end_time": "2024-03-22T14:20:28.114243Z",
     "start_time": "2024-03-22T14:20:28.110847Z"
    }
   },
   "id": "e56d7d9f84b00ba5",
   "execution_count": 75,
   "outputs": []
  },
  {
   "cell_type": "code",
   "source": [
    "html = HTML()\n",
    "\n",
    "with html.body():\n",
    "    with html.div():\n",
    "        with html.div():\n",
    "            html.p('Первая строка.')\n",
    "            html.p('Вторая строка.')\n",
    "        with html.div():\n",
    "            html.p('Третья строка.')\n",
    "\n",
    "print(html.get_code())"
   ],
   "metadata": {
    "collapsed": false,
    "ExecuteTime": {
     "end_time": "2024-03-22T14:20:28.131565Z",
     "start_time": "2024-03-22T14:20:28.128247Z"
    }
   },
   "id": "e650d6ac1884b342",
   "execution_count": 76,
   "outputs": []
  },
  {
   "cell_type": "markdown",
   "source": [
    "## 5. Визуализация графов"
   ],
   "metadata": {
    "collapsed": false
   },
   "id": "29a126d68e544df1"
  },
  {
   "cell_type": "markdown",
   "source": [
    "**5.1.** (уровень сложности: средний)\n",
    "\n",
    "Реализовать прототип библиотеки для рисования в формате SVG.\n",
    "\n",
    "Для некоторых из следующих задач потребуется библиотека для работы с SVG-графикой. Достаточно поддержать только рисование линий и кругов с указанием цвета.\n",
    "\n",
    "Пример:\n",
    "\n",
    "```Python\n",
    "svg = SVG()\n",
    "\n",
    "svg.line(10, 10, 60, 10, color='black')\n",
    "svg.line(60, 10, 60, 60, color='black')\n",
    "svg.line(60, 60, 10, 60, color='black')\n",
    "svg.line(10, 60, 10, 10, color='black')\n",
    "\n",
    "svg.circle(10, 10, r=5, color='red')\n",
    "svg.circle(60, 10, r=5, color='red')\n",
    "svg.circle(60, 60, r=5, color='red')\n",
    "svg.circle(10, 60, r=5, color='red')\n",
    "\n",
    "svg.save('pic.svg', 100, 100)\n",
    "```\n",
    "\n",
    "Файл pic.svg будет иметь следующий вид:\n",
    "\n",
    "```XML\n",
    "<svg version=\"1.1\" width=\"100.000000\" height=\"100.000000\" xmlns=\"http://www.w3.org/2000/svg\">\n",
    "<line x1=\"10.000000\" y1=\"10.000000\" x2=\"60.000000\" y2=\"10.000000\" stroke=\"black\" />\n",
    "<line x1=\"60.000000\" y1=\"10.000000\" x2=\"60.000000\" y2=\"60.000000\" stroke=\"black\" />\n",
    "<line x1=\"60.000000\" y1=\"60.000000\" x2=\"10.000000\" y2=\"60.000000\" stroke=\"black\" />\n",
    "<line x1=\"10.000000\" y1=\"60.000000\" x2=\"10.000000\" y2=\"10.000000\" stroke=\"black\" />\n",
    "<circle cx=\"10.000000\" cy=\"10.000000\" r=\"5.000000\" fill=\"red\" />\n",
    "<circle cx=\"60.000000\" cy=\"10.000000\" r=\"5.000000\" fill=\"red\" />\n",
    "<circle cx=\"60.000000\" cy=\"60.000000\" r=\"5.000000\" fill=\"red\" />\n",
    "<circle cx=\"10.000000\" cy=\"60.000000\" r=\"5.000000\" fill=\"red\" />\n",
    "</svg>\n",
    "```"
   ],
   "metadata": {
    "collapsed": false
   },
   "id": "11f52ed9a8d87b1"
  },
  {
   "cell_type": "markdown",
   "source": [
    "**Решение:**"
   ],
   "metadata": {
    "collapsed": false
   },
   "id": "c8f6a371ac23815d"
  },
  {
   "cell_type": "code",
   "source": [
    "class SVG:\n",
    "    def __init__(self):\n",
    "        self.code = ''\n",
    "\n",
    "    def line(self, x1, y1, x2, y2, color):\n",
    "        self.code += f'<line x1=\"{x1}\" y1=\"{y1}\" x2=\"{x2}\" y2=\"{y2}\" stroke=\"{color}\" />\\n'\n",
    "        \n",
    "    def circle(self, cx, cy, r, color):\n",
    "        self.code += f'<circle cx=\"{cx}\" cy=\"{cy}\" r=\"{r}\" fill=\"{color}\" />\\n'\n",
    "        \n",
    "    def save(self, filename, width, height):\n",
    "        self.code = f'<svg version=\"1.1\" width=\"{width}\" height=\"{height}\" xmlns=\"http://www.w3.org/2000/svg\">\\n{self.code}</svg>'\n",
    "        \n",
    "        f = open(f\"part5/{filename}\", \"w\")\n",
    "        f.write(self.code)\n",
    "        f.close()"
   ],
   "metadata": {
    "collapsed": false,
    "ExecuteTime": {
     "end_time": "2024-03-22T14:20:28.149758Z",
     "start_time": "2024-03-22T14:20:28.144572Z"
    }
   },
   "id": "1da00a3ca1147539",
   "execution_count": 77,
   "outputs": []
  },
  {
   "cell_type": "code",
   "source": [
    "svg = SVG()\n",
    "\n",
    "svg.line(10, 10, 60, 10, color='black')\n",
    "svg.line(60, 10, 60, 60, color='black')\n",
    "svg.line(60, 60, 10, 60, color='black')\n",
    "svg.line(10, 60, 10, 10, color='black')\n",
    "\n",
    "svg.circle(10, 10, r=5, color='red')\n",
    "svg.circle(60, 10, r=5, color='red')\n",
    "svg.circle(60, 60, r=5, color='red')\n",
    "svg.circle(10, 60, r=5, color='red')\n",
    "\n",
    "svg.save('pic.svg', 100, 100)\n",
    "\n",
    "print(svg.code)"
   ],
   "metadata": {
    "collapsed": false,
    "ExecuteTime": {
     "end_time": "2024-03-22T14:20:28.183036Z",
     "start_time": "2024-03-22T14:20:28.178766Z"
    }
   },
   "id": "f282391e5493571c",
   "execution_count": 78,
   "outputs": []
  },
  {
   "cell_type": "markdown",
   "source": [
    "Картинка:\n",
    "\n",
    "![](part5/pic.svg)"
   ],
   "metadata": {
    "collapsed": false
   },
   "id": "b10dee8ada58b305"
  }
 ],
 "metadata": {
  "kernelspec": {
   "display_name": "Python 3",
   "language": "python",
   "name": "python3"
  },
  "language_info": {
   "codemirror_mode": {
    "name": "ipython",
    "version": 2
   },
   "file_extension": ".py",
   "mimetype": "text/x-python",
   "name": "python",
   "nbconvert_exporter": "python",
   "pygments_lexer": "ipython2",
   "version": "2.7.6"
  }
 },
 "nbformat": 4,
 "nbformat_minor": 5
}
