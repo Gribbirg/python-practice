{
 "cells": [
  {
   "cell_type": "markdown",
   "source": [
    "# Практическое занятие №2\n",
    "\n",
    "Выполнил: *Грибков А.С.*\n",
    "\n",
    "Группа: *ИКБО-16-22*"
   ],
   "metadata": {
    "collapsed": false
   },
   "id": "14546d26c97ec1ad"
  },
  {
   "cell_type": "markdown",
   "source": [
    "## 1. Модули"
   ],
   "metadata": {
    "collapsed": false
   },
   "id": "bcd3dbe35d4d985"
  },
  {
   "cell_type": "markdown",
   "source": [
    "**1.1.** (уровень сложности: простейший)\n",
    "\n",
    "Напишите код, состоящий из двух модулей, для получения следующего сообщения об ошибке:\n",
    "\n",
    "```\n",
    "AttributeError: partially initialized module '...' has no attribute '...' (most likely due to a circular import)\n",
    "```"
   ],
   "metadata": {
    "collapsed": false
   },
   "id": "bf2e931ebd7f5ff8"
  },
  {
   "cell_type": "markdown",
   "source": [
    "**Решение:**\n",
    "\n",
    "[main.py](part1/task1/main.py): \n",
    "\n",
    "```python\n",
    "from random import rand, randint\n",
    "\n",
    "\n",
    "def randint(a, b):\n",
    "    return randint(a, b)\n",
    "\n",
    "\n",
    "if __name__ == '__main__':\n",
    "    main()\n",
    "```\n",
    "\n",
    "[random.py](part1/task1/random.py):\n",
    "\n",
    "```python\n",
    "import main as random\n",
    "\n",
    "rand = random.randint(1, 10)\n",
    "\n",
    "def main():\n",
    "    print(random.randint(1, 10))\n",
    "\n",
    "if __name__ == '__main__':\n",
    "    main()\n",
    "```"
   ],
   "metadata": {
    "collapsed": false
   },
   "id": "67ba73c86f40e2c8"
  },
  {
   "cell_type": "markdown",
   "source": [
    "**1.2.** (уровень сложности: простейший)\n",
    "\n",
    "Как вы думаете, модуль загружается один раз или же загружается каждый раз при очередном импорте? Докажите правильность вашей гипотезы примером кода."
   ],
   "metadata": {
    "collapsed": false
   },
   "id": "5dbf1c7d4e8d0ca5"
  },
  {
   "cell_type": "markdown",
   "source": [
    "**Решение:**\n",
    "\n",
    "Импортируется только один раз.\n",
    "\n",
    "[main.py](part1/task2/main.py):\n",
    "\n",
    "```python\n",
    "print(\"Hello World!\")\n",
    "```"
   ],
   "metadata": {
    "collapsed": false
   },
   "id": "6d2db3cc885a8a38"
  },
  {
   "cell_type": "code",
   "outputs": [
    {
     "name": "stdout",
     "output_type": "stream",
     "text": [
      "Hello World!\n"
     ]
    }
   ],
   "source": [
    "for _ in range(10):\n",
    "    import part1.task2.main"
   ],
   "metadata": {
    "collapsed": false,
    "ExecuteTime": {
     "end_time": "2024-03-15T07:04:27.128119Z",
     "start_time": "2024-03-15T07:04:27.082261Z"
    }
   },
   "id": "dc9e6b77bc22478a",
   "execution_count": 1
  },
  {
   "cell_type": "markdown",
   "source": [
    "**1.3.** (уровень сложности: простейший)\n",
    "\n",
    "Предположим, мы хотим изменить значение глобальной переменной модуля, но так, чтобы новое значение отразилось на всех пользователях этого модуля. К чему приведет следующий код? Что можно предложить взамен?\n",
    "\n",
    "```Python\n",
    "from some_module import GLOBAL_VAR\n",
    "GLOBAL_VAR = 42\n",
    "```"
   ],
   "metadata": {
    "collapsed": false
   },
   "id": "dee5e7743b0a0521"
  },
  {
   "cell_type": "markdown",
   "source": [
    "**Решение:**\n",
    "\n",
    "Изменяется, но только локально.\n",
    "\n",
    "[main.py](part1/task3/main.py):\n",
    "\n",
    "```python\n",
    "GLOBAL_VAR = 8\n",
    "\n",
    "\n",
    "def get_global_var():\n",
    "    return GLOBAL_VAR\n",
    "\n",
    "```"
   ],
   "metadata": {
    "collapsed": false
   },
   "id": "1b2000dc3d4f56b3"
  },
  {
   "cell_type": "code",
   "outputs": [
    {
     "name": "stdout",
     "output_type": "stream",
     "text": [
      "Before:\n",
      "8\n",
      "8\n",
      "\n",
      "After:\n",
      "42\n",
      "8\n"
     ]
    }
   ],
   "source": [
    "from part1.task3.main import GLOBAL_VAR, get_global_var\n",
    "\n",
    "print(\"Before:\")\n",
    "print(GLOBAL_VAR)\n",
    "print(get_global_var())\n",
    "print()\n",
    "\n",
    "GLOBAL_VAR = 42\n",
    "\n",
    "print(\"After:\")\n",
    "print(GLOBAL_VAR)\n",
    "print(get_global_var())\n",
    "print()"
   ],
   "metadata": {
    "collapsed": false,
    "ExecuteTime": {
     "end_time": "2024-03-15T07:17:00.439149Z",
     "start_time": "2024-03-15T07:17:00.425674Z"
    }
   },
   "id": "71f697975e3a80e5",
   "execution_count": 3
  },
  {
   "cell_type": "markdown",
   "source": [
    "**1.4.** (уровень сложности: простейший)\n",
    "\n",
    "Неконтролируемый импорт с помощью *, как известно, в Питоне не поощряется. Попробуйте сделать его контролируемым со стороны модуля. Использование звездочки не должно приводить к импорту всех глобальных имен вашего модуля."
   ],
   "metadata": {
    "collapsed": false
   },
   "id": "1ee83ed7a280c72b"
  },
  {
   "cell_type": "markdown",
   "source": [
    "**Решение:**\n",
    "\n",
    "[main.py](part1/task4/main.py):\n",
    "\n",
    "```python\n",
    "__all__ = ['var1', 'fun1']\n",
    "\n",
    "var1 = 1\n",
    "var2 = 2\n",
    "\n",
    "\n",
    "def fun1():\n",
    "    print(\"fun1\")\n",
    "\n",
    "\n",
    "def fun2():\n",
    "    print(\"fun2\")\n",
    "```"
   ],
   "metadata": {
    "collapsed": false
   },
   "id": "c1474f08d66a30ef"
  },
  {
   "cell_type": "code",
   "outputs": [
    {
     "name": "stdout",
     "output_type": "stream",
     "text": [
      "1\n",
      "fun1\n",
      "name 'v2' is not defined\n",
      "name 'fun2' is not defined\n"
     ]
    }
   ],
   "source": [
    "from part1.task4.main import *\n",
    "\n",
    "print(var1)\n",
    "fun1()\n",
    "\n",
    "try:\n",
    "    print(v2)\n",
    "except Exception as e:\n",
    "    print(e)\n",
    "try:\n",
    "    fun2()\n",
    "except Exception as e:\n",
    "    print(e)"
   ],
   "metadata": {
    "collapsed": false,
    "ExecuteTime": {
     "end_time": "2024-03-15T07:56:30.775931Z",
     "start_time": "2024-03-15T07:56:30.741048Z"
    }
   },
   "id": "e8618539fbbd1a8f",
   "execution_count": 1
  },
  {
   "cell_type": "markdown",
   "source": [
    "**1.6.** (уровень сложности: средний)\n",
    "\n",
    "Создайте учебный пакет, состоящий из нескольких модулей и JSON-файла. Получите дистрибутив, готовый для установки с помощью pip. Проверьте результат установки в виртуальном окружении."
   ],
   "metadata": {
    "collapsed": false
   },
   "id": "ee9457b133c61ccb"
  },
  {
   "cell_type": "markdown",
   "source": [
    "**Решение:**\n"
   ],
   "metadata": {
    "collapsed": false
   },
   "id": "c3c32e6bf41cd2fa"
  },
  {
   "cell_type": "code",
   "outputs": [],
   "source": [],
   "metadata": {
    "collapsed": false
   },
   "id": "1750f5e1d750f41a"
  }
 ],
 "metadata": {
  "kernelspec": {
   "display_name": "Python 3",
   "language": "python",
   "name": "python3"
  },
  "language_info": {
   "codemirror_mode": {
    "name": "ipython",
    "version": 2
   },
   "file_extension": ".py",
   "mimetype": "text/x-python",
   "name": "python",
   "nbconvert_exporter": "python",
   "pygments_lexer": "ipython2",
   "version": "2.7.6"
  }
 },
 "nbformat": 4,
 "nbformat_minor": 5
}
