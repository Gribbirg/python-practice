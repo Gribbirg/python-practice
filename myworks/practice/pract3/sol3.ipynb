{
 "cells": [
  {
   "cell_type": "markdown",
   "id": "14546d26c97ec1ad",
   "metadata": {
    "collapsed": false
   },
   "source": [
    "# Практическое занятие №3\n",
    "\n",
    "Выполнил: *Грибков А.С.*\n",
    "\n",
    "Группа: *ИКБО-16-22*"
   ]
  },
  {
   "cell_type": "markdown",
   "id": "bcd3dbe35d4d985",
   "metadata": {
    "collapsed": false
   },
   "source": [
    "## 1. Модули"
   ]
  },
  {
   "cell_type": "markdown",
   "id": "bf2e931ebd7f5ff8",
   "metadata": {
    "collapsed": false
   },
   "source": [
    "**1.1.** (уровень сложности: простейший)\n",
    "\n",
    "Напишите код, состоящий из двух модулей, для получения следующего сообщения об ошибке:\n",
    "\n",
    "```\n",
    "AttributeError: partially initialized module '...' has no attribute '...' (most likely due to a circular import)\n",
    "```"
   ]
  },
  {
   "cell_type": "markdown",
   "id": "67ba73c86f40e2c8",
   "metadata": {
    "collapsed": false
   },
   "source": [
    "**Решение:**\n",
    "\n",
    "[main.py](part1/task1/main.py): \n",
    "\n",
    "```python\n",
    "from random import rand, randint\n",
    "\n",
    "\n",
    "def randint(a, b):\n",
    "    return randint(a, b)\n",
    "\n",
    "\n",
    "if __name__ == '__main__':\n",
    "    main()\n",
    "```\n",
    "\n",
    "[random.py](part1/task1/random.py):\n",
    "\n",
    "```python\n",
    "import main as random\n",
    "\n",
    "rand = random.randint(1, 10)\n",
    "\n",
    "def main():\n",
    "    print(random.randint(1, 10))\n",
    "\n",
    "if __name__ == '__main__':\n",
    "    main()\n",
    "```"
   ]
  },
  {
   "cell_type": "markdown",
   "id": "5dbf1c7d4e8d0ca5",
   "metadata": {
    "collapsed": false
   },
   "source": [
    "**1.2.** (уровень сложности: простейший)\n",
    "\n",
    "Как вы думаете, модуль загружается один раз или же загружается каждый раз при очередном импорте? Докажите правильность вашей гипотезы примером кода."
   ]
  },
  {
   "cell_type": "markdown",
   "id": "6d2db3cc885a8a38",
   "metadata": {
    "collapsed": false
   },
   "source": [
    "**Решение:**\n",
    "\n",
    "Импортируется только один раз.\n",
    "\n",
    "[main.py](part1/task2/main.py):\n",
    "\n",
    "```python\n",
    "print(\"Hello World!\")\n",
    "```"
   ]
  },
  {
   "cell_type": "code",
   "execution_count": 7,
   "id": "dc9e6b77bc22478a",
   "metadata": {
    "collapsed": false,
    "ExecuteTime": {
     "end_time": "2024-03-19T09:20:58.266913Z",
     "start_time": "2024-03-19T09:20:58.260462Z"
    }
   },
   "source": [
    "for _ in range(10):\n",
    "    import part1.task2.main"
   ],
   "outputs": []
  },
  {
   "cell_type": "markdown",
   "id": "dee5e7743b0a0521",
   "metadata": {
    "collapsed": false
   },
   "source": [
    "**1.3.** (уровень сложности: простейший)\n",
    "\n",
    "Предположим, мы хотим изменить значение глобальной переменной модуля, но так, чтобы новое значение отразилось на всех пользователях этого модуля. К чему приведет следующий код? Что можно предложить взамен?\n",
    "\n",
    "```Python\n",
    "from some_module import GLOBAL_VAR\n",
    "GLOBAL_VAR = 42\n",
    "```"
   ]
  },
  {
   "cell_type": "markdown",
   "id": "1b2000dc3d4f56b3",
   "metadata": {
    "collapsed": false
   },
   "source": [
    "**Решение:**\n",
    "\n",
    "Изменяется, но только локально.\n",
    "\n",
    "[main.py](part1/task3/main.py):\n",
    "\n",
    "```python\n",
    "GLOBAL_VAR = 8\n",
    "\n",
    "\n",
    "def get_global_var():\n",
    "    return GLOBAL_VAR\n",
    "\n",
    "```"
   ]
  },
  {
   "cell_type": "code",
   "execution_count": 8,
   "id": "71f697975e3a80e5",
   "metadata": {
    "collapsed": false,
    "ExecuteTime": {
     "end_time": "2024-03-19T09:20:58.337887Z",
     "start_time": "2024-03-19T09:20:58.331918Z"
    }
   },
   "source": [
    "from part1.task3.main import GLOBAL_VAR, get_global_var\n",
    "\n",
    "print(\"Before:\")\n",
    "print(GLOBAL_VAR)\n",
    "print(get_global_var())\n",
    "print()\n",
    "\n",
    "GLOBAL_VAR = 42\n",
    "\n",
    "print(\"After:\")\n",
    "print(GLOBAL_VAR)\n",
    "print(get_global_var())\n",
    "print()"
   ],
   "outputs": []
  },
  {
   "cell_type": "markdown",
   "id": "1ee83ed7a280c72b",
   "metadata": {
    "collapsed": false
   },
   "source": [
    "**1.4.** (уровень сложности: простейший)\n",
    "\n",
    "Неконтролируемый импорт с помощью *, как известно, в Питоне не поощряется. Попробуйте сделать его контролируемым со стороны модуля. Использование звездочки не должно приводить к импорту всех глобальных имен вашего модуля."
   ]
  },
  {
   "cell_type": "markdown",
   "id": "c1474f08d66a30ef",
   "metadata": {
    "collapsed": false
   },
   "source": [
    "**Решение:**\n",
    "\n",
    "[main.py](part1/task4/main.py):\n",
    "\n",
    "```python\n",
    "__all__ = ['var1', 'fun1']\n",
    "\n",
    "var1 = 1\n",
    "var2 = 2\n",
    "\n",
    "\n",
    "def fun1():\n",
    "    print(\"fun1\")\n",
    "\n",
    "\n",
    "def fun2():\n",
    "    print(\"fun2\")\n",
    "```"
   ]
  },
  {
   "cell_type": "code",
   "execution_count": 9,
   "id": "e8618539fbbd1a8f",
   "metadata": {
    "collapsed": false,
    "ExecuteTime": {
     "end_time": "2024-03-19T09:20:58.344138Z",
     "start_time": "2024-03-19T09:20:58.338894Z"
    }
   },
   "source": [
    "from part1.task4.main import *\n",
    "\n",
    "print(var1)\n",
    "fun1()\n",
    "\n",
    "try:\n",
    "    print(v2)\n",
    "except Exception as e:\n",
    "    print(e)\n",
    "try:\n",
    "    fun2()\n",
    "except Exception as e:\n",
    "    print(e)"
   ],
   "outputs": []
  },
  {
   "cell_type": "markdown",
   "id": "6e65b500a9fad8ab",
   "metadata": {
    "collapsed": false
   },
   "source": [
    "## 2. Процедурная графика"
   ]
  },
  {
   "cell_type": "markdown",
   "id": "969a96d43f7a82ce",
   "metadata": {
    "collapsed": false
   },
   "source": [
    "**2.1.** (уровень сложности: средний)\n",
    "\n",
    "Создайте генератор случайных спрайтов 5x5 пикселей. Используйте свойство симметрии. Вывод реализуйте с помощью функции imshow.\n",
    "\n",
    "Пример работы генератора показан ниже.\n",
    "\n",
    "![](../../../data/sprite1.png)"
   ]
  },
  {
   "cell_type": "markdown",
   "id": "b84dc45d8a8139b2",
   "metadata": {
    "collapsed": false
   },
   "source": [
    "**Решение:**"
   ]
  },
  {
   "cell_type": "code",
   "execution_count": 10,
   "id": "3b4e01979f8f5871",
   "metadata": {
    "collapsed": false,
    "ExecuteTime": {
     "end_time": "2024-03-19T09:20:58.420748Z",
     "start_time": "2024-03-19T09:20:58.360144Z"
    }
   },
   "source": [
    "import matplotlib.pyplot as plt\n",
    "import numpy as np\n",
    "\n",
    "SIZE = 5\n",
    "\n",
    "sprite = np.random.randint(0, 2, size=(SIZE, SIZE))\n",
    "sprite = np.maximum(sprite, list(map(lambda line: line[::-1], sprite)))\n",
    "plt.imshow(sprite, cmap='gray')\n",
    "plt.show()"
   ],
   "outputs": []
  },
  {
   "cell_type": "markdown",
   "id": "86285ce77408c7b0",
   "metadata": {
    "collapsed": false
   },
   "source": [
    "**2.2.** (уровень сложности: средний)\n",
    "\n",
    "Создайте генератор карт спрайтов. Пример работы этого генератора показан ниже.\n",
    "\n",
    "\n",
    "![](../../../data/sprite2.png)"
   ]
  },
  {
   "cell_type": "markdown",
   "id": "282549f81bc9ec36",
   "metadata": {
    "collapsed": false
   },
   "source": [
    "**Решение:**"
   ]
  },
  {
   "cell_type": "code",
   "execution_count": 11,
   "id": "3f446137a9632c2c",
   "metadata": {
    "collapsed": false,
    "ExecuteTime": {
     "end_time": "2024-03-19T09:20:58.525728Z",
     "start_time": "2024-03-19T09:20:58.426755Z"
    }
   },
   "source": [
    "from random import randint\n",
    "\n",
    "ROW_SIZE = 16\n",
    "COLUMN_SIZE = 8\n",
    "SPACE = 3\n",
    "SIZE = 10\n",
    "\n",
    "s = SIZE + SPACE * 2\n",
    "\n",
    "sprites = np.zeros(s * s * COLUMN_SIZE * ROW_SIZE).reshape(s * COLUMN_SIZE, s * ROW_SIZE)\n",
    "for i_column in range(COLUMN_SIZE):\n",
    "    for i_row in range(ROW_SIZE):\n",
    "        for i in range(SIZE):\n",
    "            for j in range(SIZE):\n",
    "                sprites[i_column * s + i + SPACE][i_row * s + j + SPACE] = randint(0, 1)\n",
    "                sprites[i_column * s + i + SPACE][i_row * s + (s - SPACE) - j - 1] = sprites[i_column * s + i + SPACE][\n",
    "                    i_row * s + j + SPACE]\n",
    "\n",
    "plt.imshow(sprites, cmap='gray', interpolation='none')\n",
    "plt.show()"
   ],
   "outputs": []
  },
  {
   "cell_type": "markdown",
   "id": "8e9b67d0770d67e",
   "metadata": {
    "collapsed": false
   },
   "source": [
    "**2.3.** (уровень сложности: высокий)\n",
    "\n",
    "Реализуйте генератор случайных спрайтов NxM. Используйте различные свойства симметрии. Добавьте цвета.\n",
    "\n",
    "Пример работы этого генератора показан ниже.\n",
    "\n",
    "\n",
    "![](../../../data/sprite3.png)\n",
    "\n",
    "Использовалась палитра из PICO-8:\n",
    "\n",
    "```\n",
    "1D2B53\n",
    "7E2553\n",
    "008751\n",
    "AB5236\n",
    "5F574F\n",
    "C2C3C7\n",
    "FFF1E8\n",
    "FF004D\n",
    "FFA300\n",
    "FFEC27\n",
    "00E436\n",
    "29ADFF\n",
    "83769C\n",
    "FF77A8\n",
    "FFCCAA\n",
    "```"
   ]
  },
  {
   "cell_type": "markdown",
   "id": "7bc42be28142a03b",
   "metadata": {
    "collapsed": false
   },
   "source": [
    "**Решение:**"
   ]
  },
  {
   "cell_type": "code",
   "execution_count": 12,
   "id": "2f44deb2c1f2f26a",
   "metadata": {
    "collapsed": false,
    "ExecuteTime": {
     "end_time": "2024-03-19T09:20:58.630649Z",
     "start_time": "2024-03-19T09:20:58.526732Z"
    }
   },
   "source": [
    "from random import randint, choice\n",
    "\n",
    "PALETTE = [\n",
    "    0x1D2B53,\n",
    "    0x7E2553,\n",
    "    0x008751,\n",
    "    0xAB5236,\n",
    "    0x5F574F,\n",
    "    0xC2C3C7,\n",
    "    0xFFF1E8,\n",
    "    0xFF004D,\n",
    "    0xFFA300,\n",
    "    0xFFEC27,\n",
    "    0x00E436,\n",
    "    0x29ADFF,\n",
    "    0x83769C,\n",
    "    0xFF77A8,\n",
    "    0xFFCCAA\n",
    "]\n",
    "\n",
    "ROW_SIZE = 16\n",
    "COLUMN_SIZE = 8\n",
    "SPACE = 3\n",
    "SIZE = 10\n",
    "COLORS_FOR_SPRITE_COUNT = 4\n",
    "\n",
    "s = SIZE + SPACE * 2\n",
    "rgb_palette = list(map(lambda color: [color >> 16, (color >> 8) & 0xFF, color & 0xFF], PALETTE))\n",
    "\n",
    "sprites = np.zeros(s * s * COLUMN_SIZE * ROW_SIZE * 3).reshape(s * COLUMN_SIZE, s * ROW_SIZE, 3)\n",
    "for i_column in range(COLUMN_SIZE):\n",
    "    for i_row in range(ROW_SIZE):\n",
    "        colors = np.array([choice(rgb_palette) for _ in range(COLORS_FOR_SPRITE_COUNT)])\n",
    "        for i in range(SIZE):\n",
    "            for j in range(SIZE):\n",
    "                sprites[i_column * s + i + SPACE][i_row * s + j + SPACE] = randint(0, 1) * choice(colors)\n",
    "                sprites[i_column * s + i + SPACE][i_row * s + (s - SPACE) - j - 1] = sprites[i_column * s + i + SPACE][\n",
    "                    i_row * s + j + SPACE]\n",
    "\n",
    "plt.imshow(sprites.astype('uint8'), interpolation='none')\n",
    "plt.show()"
   ],
   "outputs": []
  },
  {
   "cell_type": "markdown",
   "id": "f84f6cbc5973a675",
   "metadata": {
    "collapsed": false
   },
   "source": [
    "**2.4.** (уровень сложности: высокий)\n",
    "\n",
    "Слышали ли вы об играх с процедурно сгенерированными вселенными? Оказывается, у современной Elite Dangerous есть далекий предок – игра Elite 1984 года. В Elite была впечатляющая по тем временам 3d графика и целых 8 галактик для исследования, каждая из которых содержала 256 солнечных систем. Удивительно, но все это работало на 8-битном компьютере, а код игры составлял микроскопические 32 Кбайт.\n",
    "\n",
    "Изобразите легендарную первую галактику из игры Elite. Для этого потребуется портировать алгоритм процедурной генерации, приведенный далее на C/C++. Обратите внимание, [этот код](http://www.iancgbell.clara.net/elite/text/) написан в низкоуровневом стиле, поскольку был получен из оригинальной игры, которая, в свою очередь, была написана на языке ассемблера. Вам необходимо при портировании следовать хорошему стилю написания программ на Питоне.\n",
    "\n",
    "Каждая галактика в игре генерируется на основе всего трех 16-битных чисел w0, w1 и w2. Для первой галактики это 0x5A4A, 0x0248 и 0xB753. Имена звезд генерируются с помощью массива слогов.\n",
    "\n",
    "```C\n",
    "char pairs[] = \"..LEXEGEZACEBISO\"\n",
    "\"USESARMAINDIREA.\"\n",
    "\"ERATENBERALAVETI\"\n",
    "\"EDORQUANTEISRION\"; /* Dots should be nullprint characters */\n",
    "\n",
    "typedef struct\n",
    "{\n",
    " uint x;\n",
    " uint y; /* One byte unsigned */\n",
    " uint economy; /* These two are actually only 0-7 */\n",
    " uint govtype;\n",
    " uint techlev; /* 0-16 i think */\n",
    " uint population; /* One byte */\n",
    " uint productivity; /* Two byte */\n",
    " uint radius; /* Two byte (not used by game at all) */\n",
    " fastseedtype goatsoupseed;\n",
    " char name[12];\n",
    "} plansys;\n",
    "\n",
    "void tweakseed(seedtype *s)\n",
    "{\n",
    " uint16 temp;\n",
    " temp = ((*s).w0) + ((*s).w1) + ((*s).w2); /* 2 byte aritmetic */\n",
    " (*s).w0 = (*s).w1;\n",
    " (*s).w1 = (*s).w2;\n",
    " (*s).w2 = temp;\n",
    "}\n",
    "\n",
    "/**-Generate system info from seed **/\n",
    "\n",
    "plansys makesystem(seedtype *s)\n",
    "{\n",
    " plansys thissys;\n",
    " uint pair1, pair2, pair3, pair4;\n",
    " uint16 longnameflag = ((*s).w0) & 64;\n",
    "\n",
    " thissys.x = (((*s).w1) >> 8);\n",
    " thissys.y = (((*s).w0) >> 8);\n",
    "\n",
    " thissys.govtype = ((((*s).w1) >> 3) & 7); /* bits 3,4 &5 of w1 */\n",
    "\n",
    " thissys.economy = ((((*s).w0) >> 8) & 7); /* bits 8,9 &A of w0 */\n",
    " if (thissys.govtype <= 1)\n",
    " {\n",
    " thissys.economy = ((thissys.economy) | 2);\n",
    " }\n",
    "\n",
    " thissys.techlev = ((((*s).w1) >> 8) & 3) + ((thissys.economy) ^ 7);\n",
    " thissys.techlev += ((thissys.govtype) >> 1);\n",
    " if (((thissys.govtype) & 1) == 1) thissys.techlev += 1;\n",
    " /* C simulation of 6502's LSR then ADC */\n",
    "\n",
    " thissys.population = 4 * (thissys.techlev) + (thissys.economy);\n",
    " thissys.population += (thissys.govtype) + 1;\n",
    "\n",
    " thissys.productivity = (((thissys.economy) ^ 7) + 3)*((thissys.govtype) + 4);\n",
    " thissys.productivity *= (thissys.population) * 8;\n",
    "\n",
    " thissys.radius = 256 * (((((*s).w2) >> 8) & 15) + 11) + thissys.x;\n",
    "\n",
    " thissys.goatsoupseed.a = (*s).w1 & 0xFF;;\n",
    " thissys.goatsoupseed.b = (*s).w1 >> 8;\n",
    " thissys.goatsoupseed.c = (*s).w2 & 0xFF;\n",
    " thissys.goatsoupseed.d = (*s).w2 >> 8;\n",
    "\n",
    " pair1 = 2 * ((((*s).w2) >> 8) & 31); tweakseed(s);\n",
    " pair2 = 2 * ((((*s).w2) >> 8) & 31); tweakseed(s);\n",
    " pair3 = 2 * ((((*s).w2) >> 8) & 31); tweakseed(s);\n",
    " pair4 = 2 * ((((*s).w2) >> 8) & 31); tweakseed(s);\n",
    " /* Always four iterations of random number */\n",
    "\n",
    " (thissys.name)[0] = pairs[pair1];\n",
    " (thissys.name)[1] = pairs[pair1 + 1];\n",
    " (thissys.name)[2] = pairs[pair2];\n",
    " (thissys.name)[3] = pairs[pair2 + 1];\n",
    " (thissys.name)[4] = pairs[pair3];\n",
    " (thissys.name)[5] = pairs[pair3 + 1];\n",
    "\n",
    " if (longnameflag) /* bit 6 of ORIGINAL w0 flags a four-pair name */\n",
    " {\n",
    " (thissys.name)[6] = pairs[pair4];\n",
    " (thissys.name)[7] = pairs[pair4 + 1];\n",
    " (thissys.name)[8] = 0;\n",
    " }\n",
    " else (thissys.name)[6] = 0;\n",
    " stripout(thissys.name, '.');\n",
    "\n",
    " return thissys;\n",
    "}\n",
    "```\n",
    "\n",
    "Описание первой галактики можно найти [здесь](https://wiki.alioth.net/index.php/Oolite_planet_list/Galaxy_1).\n",
    "\n",
    "Ниже показан пример визуализации первой галактики.\n",
    "\n",
    "![](../../../data/galaxy.png)"
   ]
  },
  {
   "cell_type": "code",
   "execution_count": 13,
   "id": "5019a7d708496e2d",
   "metadata": {
    "collapsed": false,
    "ExecuteTime": {
     "end_time": "2024-03-19T09:20:59.236657Z",
     "start_time": "2024-03-19T09:20:58.631655Z"
    }
   },
   "source": [
    "PAIRS = \"..LEXEGEZACEBISO\" \\\n",
    "        \"USESARMAINDIREA.\" \\\n",
    "        \"ERATENBERALAVETI\" \\\n",
    "        \"EDORQUANTEISRION\"\n",
    "\n",
    "\n",
    "class SeedType:\n",
    "    def __init__(self, w0, w1, w2):\n",
    "        self.w0 = w0\n",
    "        self.w1 = w1\n",
    "        self.w2 = w2\n",
    "\n",
    "\n",
    "class FastSeedType:\n",
    "    def __init__(self, a, b, c, d):\n",
    "        self.a = a\n",
    "        self.b = b\n",
    "        self.c = c\n",
    "        self.d = d\n",
    "\n",
    "\n",
    "class PlanSys:\n",
    "    def __init__(\n",
    "            self,\n",
    "            x=0,\n",
    "            y=0,\n",
    "            economy=0,\n",
    "            gov_type=0,\n",
    "            tech_lev=0,\n",
    "            population=0,\n",
    "            productivity=0,\n",
    "            radius=0,\n",
    "            goat_soup_seed=FastSeedType(0, 0, 0, 0),\n",
    "            name=\"\"\n",
    "    ):\n",
    "        self.x = x\n",
    "        self.y = y\n",
    "        self.economy = economy\n",
    "        self.gov_type = gov_type\n",
    "        self.tech_lev = tech_lev\n",
    "        self.population = population\n",
    "        self.productivity = productivity\n",
    "        self.radius = radius\n",
    "        self.goat_soup_seed = goat_soup_seed\n",
    "        self.name = name\n",
    "\n",
    "\n",
    "def tweak_seed(s: SeedType):\n",
    "    temp = s.w0 + s.w1 + s.w2\n",
    "    s.w0 = s.w1\n",
    "    s.w1 = s.w2\n",
    "    s.w2 = temp\n",
    "\n",
    "\n",
    "def make_system(s: SeedType):\n",
    "    long_name_flag = s.w0 & 64\n",
    "\n",
    "    this_sys = PlanSys()\n",
    "\n",
    "    this_sys.x = (s.w1 >> 8) % 2 ** 32\n",
    "    this_sys.y = (s.w0 >> 8) % 2 ** 32\n",
    "\n",
    "    this_sys.gov_type = (s.w1 >> 3) & 7\n",
    "\n",
    "    this_sys.economy = (s.w0 >> 8) & 7 if (this_sys.gov_type > 1) else this_sys.economy | 2\n",
    "\n",
    "    this_sys.tech_lev = ((s.w1 >> 8) & 3) + (this_sys.economy ^ 7) + (this_sys.gov_type >> 1) + (\n",
    "            this_sys.gov_type & 1 == 1)\n",
    "\n",
    "    this_sys.population = 4 * this_sys.tech_lev + this_sys.economy + this_sys.gov_type + 1\n",
    "\n",
    "    this_sys.radius = 256 * (((s.w0 >> 8) & 15) + 11) + this_sys.x\n",
    "\n",
    "    this_sys.goat_soup_seed.a = s.w1 & 0xFF\n",
    "    this_sys.goat_soup_seed.b = s.w1 >> 8\n",
    "    this_sys.goat_soup_seed.c = s.w2 & 0xFF\n",
    "    this_sys.goat_soup_seed.d = s.w2 >> 8\n",
    "\n",
    "    pair1 = 2 * ((s.w2 >> 8) & 31)\n",
    "    tweak_seed(s)\n",
    "    pair2 = 2 * ((s.w2 >> 8) & 31)\n",
    "    tweak_seed(s)\n",
    "    pair3 = 2 * ((s.w2 >> 8) & 31)\n",
    "    tweak_seed(s)\n",
    "    pair4 = 2 * ((s.w2 >> 8) & 31)\n",
    "    tweak_seed(s)\n",
    "\n",
    "    this_sys.name = (PAIRS[pair1:pair1 + 2] + PAIRS[pair2:pair2 + 2] + PAIRS[pair3:pair3 + 2] + (\n",
    "        PAIRS[pair4:pair4 + 2] if long_name_flag else \"\")).replace(\".\", \"\")\n",
    "\n",
    "    return this_sys\n",
    "\n",
    "\n",
    "seed = SeedType(0x5A4A, 0x0248, 0xB753)\n",
    "systems = [make_system(seed) for i in range(256)]\n",
    "xs, ys = zip(*((system.x, system.y) for system in systems))\n",
    "names = [system.name for system in systems]\n",
    "\n",
    "fig, ax = plt.subplots()\n",
    "fig.set_size_inches(32, 16)\n",
    "ax.scatter(xs, ys, color='white', s=2)\n",
    "ax.set_facecolor(\"black\")\n",
    "\n",
    "for i, name in enumerate(names):\n",
    "    ax.annotate(name, (xs[i], ys[i]), color='lightblue')\n",
    "\n",
    "plt.show()"
   ],
   "outputs": []
  },
  {
   "cell_type": "markdown",
   "id": "d6c503cde251ce0c",
   "metadata": {
    "collapsed": false
   },
   "source": [
    "## 3. Инфографика"
   ]
  },
  {
   "cell_type": "markdown",
   "id": "d1783b93436242b1",
   "metadata": {
    "collapsed": false
   },
   "source": [
    "Проанализируйте данные, полученные от ЦАП. Для этого можно воспользоваться приведенным ниже кодом.\n",
    "\n",
    "```Python\n",
    "import csv\n",
    "import datetime\n",
    "\n",
    "\n",
    "def parse_time(text):\n",
    "    return datetime.datetime.strptime(text, '%Y-%m-%d %H:%M:%S.%f')\n",
    "\n",
    "\n",
    "def load_csv(filename):\n",
    "    with open(filename, encoding='utf8') as f:\n",
    "        return list(csv.reader(f, delimiter=','))\n",
    "\n",
    "\n",
    "# Сообщения, присланные в ЦАП.\n",
    "# id, task, variant, group, time\n",
    "messages = load_csv('messages.csv')\n",
    "\n",
    "# Результаты проверок сообщений, присланных в ЦАП.\n",
    "# id, message, time, status\n",
    "checks = load_csv('checks.csv')\n",
    "\n",
    "# Состояния задач ЦАП.\n",
    "# task, variant, group, time, status, achievements\n",
    "statuses = load_csv('statuses.csv')\n",
    "\n",
    "# Таблица соответствия номеров групп и их названий.\n",
    "# id, title\n",
    "groups = load_csv('groups.csv')\n",
    "\n",
    "# О статусах см. https://github.com/kispython-ru/dta/blob/main/webapp/models.py#L44-L50\n",
    "```"
   ]
  },
  {
   "cell_type": "code",
   "execution_count": 14,
   "id": "7427289d6ba814d1",
   "metadata": {
    "collapsed": false,
    "ExecuteTime": {
     "end_time": "2024-03-19T09:20:59.392792Z",
     "start_time": "2024-03-19T09:20:59.238665Z"
    }
   },
   "source": [
    "\n",
    "import matplotlib.pyplot as plt\n",
    "import csv\n",
    "import datetime\n",
    "import pandas as pd\n",
    "\n",
    "\n",
    "def parse_time(text):\n",
    "    return datetime.datetime.strptime(text, '%Y-%m-%d %H:%M:%S.%f')\n",
    "\n",
    "\n",
    "def load_csv(filename):\n",
    "    with open(filename, encoding='utf8') as f:\n",
    "        return list(csv.reader(f, delimiter=','))\n",
    "\n",
    "\n",
    "# Сообщения, присланные в ЦАП.\n",
    "# id, task, variant, group, time\n",
    "messages = load_csv('../../../data/messages.csv')\n",
    "\n",
    "# Результаты проверок сообщений, присланных в ЦАП.\n",
    "# id, message, time, status\n",
    "checks = load_csv('../../../data/checks.csv')\n",
    "\n",
    "# Состояния задач ЦАП.\n",
    "# task, variant, group, time, status, achievements\n",
    "statuses = load_csv('../../../data/statuses.csv')\n",
    "\n",
    "# Таблица соответствия номеров групп и их названий.\n",
    "# id, title\n",
    "groups = load_csv('../../../data/groups.csv')\n",
    "\n",
    "# О статусах см. https://github.com/kispython-ru/dta/blob/main/webapp/models.py#L44-L50"
   ],
   "outputs": []
  },
  {
   "cell_type": "markdown",
   "id": "1ddaf5a4e6f14c53",
   "metadata": {
    "collapsed": false
   },
   "source": [
    "**3.1.** (уровень сложности: средний)\n",
    "\n",
    "Как по дням недели распределяется активность студентов?"
   ]
  },
  {
   "cell_type": "markdown",
   "id": "4d8e4e3e83133440",
   "metadata": {
    "collapsed": false
   },
   "source": [
    "**Решение:**"
   ]
  },
  {
   "cell_type": "code",
   "execution_count": 15,
   "id": "749fe5de153c592c",
   "metadata": {
    "collapsed": false,
    "ExecuteTime": {
     "end_time": "2024-03-19T09:20:59.966814Z",
     "start_time": "2024-03-19T09:20:59.393798Z"
    }
   },
   "source": [
    "data = list(map(lambda x: parse_time(x[2]).strftime('%A'), checks))\n",
    "data = pd.Series(data).value_counts()\n",
    "\n",
    "plt.figure(figsize=(8, 4))\n",
    "plt.bar(data.index, data)\n",
    "plt.ylabel(\"Активность\")\n",
    "plt.show()"
   ],
   "outputs": []
  },
  {
   "cell_type": "markdown",
   "id": "9e13958851f18639",
   "metadata": {
    "collapsed": false
   },
   "source": [
    "**3.2.** (уровень сложности: средний)\n",
    "\n",
    "Как по времени суток распределяется активность студентов?"
   ]
  },
  {
   "cell_type": "markdown",
   "id": "8a9f43398a649122",
   "metadata": {
    "collapsed": false
   },
   "source": [
    "**Решение:**"
   ]
  },
  {
   "cell_type": "code",
   "execution_count": 16,
   "id": "858289d725cc380b",
   "metadata": {
    "collapsed": false,
    "ExecuteTime": {
     "end_time": "2024-03-19T09:21:00.483372Z",
     "start_time": "2024-03-19T09:20:59.967819Z"
    }
   },
   "source": [
    "data = list(map(lambda x: parse_time(x[2]).strftime('%H'), checks))\n",
    "data = pd.Series(data).value_counts()\n",
    "\n",
    "plt.figure(figsize=(8, 4))\n",
    "plt.bar(data.index, data)\n",
    "plt.ylabel(\"Активность\")\n",
    "plt.xlabel(\"Время\")\n",
    "plt.show()"
   ],
   "outputs": []
  },
  {
   "cell_type": "markdown",
   "id": "8bc1f875ed6a0a02",
   "metadata": {
    "collapsed": false
   },
   "source": [
    "**3.5.** (уровень сложности: средний)\n",
    "\n",
    "В каких группах было отправлено больше всего сообщений?"
   ]
  },
  {
   "cell_type": "markdown",
   "id": "f1f4cf82992a91dd",
   "metadata": {
    "collapsed": false
   },
   "source": [
    "**Решение:**"
   ]
  },
  {
   "cell_type": "code",
   "execution_count": 17,
   "id": "95d1b574a8b4e13a",
   "metadata": {
    "collapsed": false,
    "ExecuteTime": {
     "end_time": "2024-03-19T09:21:00.703808Z",
     "start_time": "2024-03-19T09:21:00.484377Z"
    }
   },
   "source": [
    "data = list(map(lambda x: groups[int(x[3])][1], messages))\n",
    "data = pd.Series(data).value_counts()\n",
    "\n",
    "plt.figure(figsize=(20, 8))\n",
    "plt.bar(data.index, data)\n",
    "plt.ylabel(\"Активность\")\n",
    "plt.xlabel(\"Группа\")\n",
    "plt.xticks(rotation=90)\n",
    "plt.show()"
   ],
   "outputs": []
  },
  {
   "cell_type": "markdown",
   "id": "da7d6db1e9016f68",
   "metadata": {
    "collapsed": false
   },
   "source": [
    "**3.6.** (уровень сложности: средний)\n",
    "\n",
    "В каких группах было получено больше всего правильных решений? "
   ]
  },
  {
   "cell_type": "markdown",
   "id": "b9737d9142331bc9",
   "metadata": {
    "collapsed": false
   },
   "source": [
    "**Решение:**"
   ]
  },
  {
   "cell_type": "code",
   "execution_count": 18,
   "id": "ddaf5a6df3988a05",
   "metadata": {
    "collapsed": false,
    "ExecuteTime": {
     "end_time": "2024-03-19T09:21:00.948817Z",
     "start_time": "2024-03-19T09:21:00.703808Z"
    }
   },
   "source": [
    "data = list(filter(lambda x: x[4] == \"2\", statuses))\n",
    "data = list(map(lambda x: groups[int(x[2])][1], data))\n",
    "data = pd.Series(data).value_counts()\n",
    "\n",
    "plt.figure(figsize=(20, 8))\n",
    "plt.bar(data.index, data)\n",
    "plt.ylabel(\"Правильные решения\")\n",
    "plt.xlabel(\"Группа\")\n",
    "plt.xticks(rotation=90)\n",
    "plt.show()"
   ],
   "outputs": []
  }
 ],
 "metadata": {
  "kernelspec": {
   "display_name": "Python 3 (ipykernel)",
   "language": "python",
   "name": "python3"
  },
  "language_info": {
   "codemirror_mode": {
    "name": "ipython",
    "version": 3
   },
   "file_extension": ".py",
   "mimetype": "text/x-python",
   "name": "python",
   "nbconvert_exporter": "python",
   "pygments_lexer": "ipython3",
   "version": "3.12.1"
  }
 },
 "nbformat": 4,
 "nbformat_minor": 5
}
